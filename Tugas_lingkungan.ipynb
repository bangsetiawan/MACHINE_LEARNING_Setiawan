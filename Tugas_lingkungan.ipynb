{
  "nbformat": 4,
  "nbformat_minor": 0,
  "metadata": {
    "colab": {
      "provenance": []
    },
    "kernelspec": {
      "name": "python3",
      "display_name": "Python 3"
    },
    "language_info": {
      "name": "python"
    }
  },
  "cells": [
    {
      "cell_type": "code",
      "execution_count": 2,
      "metadata": {
        "colab": {
          "base_uri": "https://localhost:8080/"
        },
        "id": "ZrctqWTCh8Y9",
        "outputId": "85710267-0487-4b08-ce3d-503346d4eac7"
      },
      "outputs": [
        {
          "output_type": "stream",
          "name": "stdout",
          "text": [
            "Drive already mounted at /content/drive; to attempt to forcibly remount, call drive.mount(\"/content/drive\", force_remount=True).\n"
          ]
        }
      ],
      "source": [
        "from google.colab import drive #memanggil package import drive\n",
        "drive.mount('/content/drive')"
      ]
    },
    {
      "cell_type": "code",
      "source": [
        "import matplotlib.pyplot as plt"
      ],
      "metadata": {
        "id": "7L8akJXdidj7"
      },
      "execution_count": 3,
      "outputs": []
    },
    {
      "cell_type": "code",
      "source": [
        "import pandas as pd #MANIPULASI DATA\n",
        "\n",
        "path = '/content/drive/MyDrive/CSV/lingkungan - Sheet3.csv' # PATH ATAU PEMANGGILAN\n",
        "\n",
        "df = pd.read_csv(path)#DF : DATAFRAME\n",
        "\n",
        "df.describe()"
      ],
      "metadata": {
        "colab": {
          "base_uri": "https://localhost:8080/",
          "height": 300
        },
        "id": "tN2btVr5ie9h",
        "outputId": "3c1e19d2-d9f8-47cb-e73f-6fab24d07830"
      },
      "execution_count": 4,
      "outputs": [
        {
          "output_type": "execute_result",
          "data": {
            "text/plain": [
              "       jumlah_tiang  jumlah_lampu\n",
              "count     23.000000     23.000000\n",
              "mean      12.391304     12.391304\n",
              "std        7.481730      7.481730\n",
              "min        1.000000      1.000000\n",
              "25%        6.500000      6.500000\n",
              "50%       12.000000     12.000000\n",
              "75%       17.500000     17.500000\n",
              "max       28.000000     28.000000"
            ],
            "text/html": [
              "\n",
              "  <div id=\"df-8a9a1e42-afe5-4fc3-81b1-bab8ff0af941\">\n",
              "    <div class=\"colab-df-container\">\n",
              "      <div>\n",
              "<style scoped>\n",
              "    .dataframe tbody tr th:only-of-type {\n",
              "        vertical-align: middle;\n",
              "    }\n",
              "\n",
              "    .dataframe tbody tr th {\n",
              "        vertical-align: top;\n",
              "    }\n",
              "\n",
              "    .dataframe thead th {\n",
              "        text-align: right;\n",
              "    }\n",
              "</style>\n",
              "<table border=\"1\" class=\"dataframe\">\n",
              "  <thead>\n",
              "    <tr style=\"text-align: right;\">\n",
              "      <th></th>\n",
              "      <th>jumlah_tiang</th>\n",
              "      <th>jumlah_lampu</th>\n",
              "    </tr>\n",
              "  </thead>\n",
              "  <tbody>\n",
              "    <tr>\n",
              "      <th>count</th>\n",
              "      <td>23.000000</td>\n",
              "      <td>23.000000</td>\n",
              "    </tr>\n",
              "    <tr>\n",
              "      <th>mean</th>\n",
              "      <td>12.391304</td>\n",
              "      <td>12.391304</td>\n",
              "    </tr>\n",
              "    <tr>\n",
              "      <th>std</th>\n",
              "      <td>7.481730</td>\n",
              "      <td>7.481730</td>\n",
              "    </tr>\n",
              "    <tr>\n",
              "      <th>min</th>\n",
              "      <td>1.000000</td>\n",
              "      <td>1.000000</td>\n",
              "    </tr>\n",
              "    <tr>\n",
              "      <th>25%</th>\n",
              "      <td>6.500000</td>\n",
              "      <td>6.500000</td>\n",
              "    </tr>\n",
              "    <tr>\n",
              "      <th>50%</th>\n",
              "      <td>12.000000</td>\n",
              "      <td>12.000000</td>\n",
              "    </tr>\n",
              "    <tr>\n",
              "      <th>75%</th>\n",
              "      <td>17.500000</td>\n",
              "      <td>17.500000</td>\n",
              "    </tr>\n",
              "    <tr>\n",
              "      <th>max</th>\n",
              "      <td>28.000000</td>\n",
              "      <td>28.000000</td>\n",
              "    </tr>\n",
              "  </tbody>\n",
              "</table>\n",
              "</div>\n",
              "      <button class=\"colab-df-convert\" onclick=\"convertToInteractive('df-8a9a1e42-afe5-4fc3-81b1-bab8ff0af941')\"\n",
              "              title=\"Convert this dataframe to an interactive table.\"\n",
              "              style=\"display:none;\">\n",
              "        \n",
              "  <svg xmlns=\"http://www.w3.org/2000/svg\" height=\"24px\"viewBox=\"0 0 24 24\"\n",
              "       width=\"24px\">\n",
              "    <path d=\"M0 0h24v24H0V0z\" fill=\"none\"/>\n",
              "    <path d=\"M18.56 5.44l.94 2.06.94-2.06 2.06-.94-2.06-.94-.94-2.06-.94 2.06-2.06.94zm-11 1L8.5 8.5l.94-2.06 2.06-.94-2.06-.94L8.5 2.5l-.94 2.06-2.06.94zm10 10l.94 2.06.94-2.06 2.06-.94-2.06-.94-.94-2.06-.94 2.06-2.06.94z\"/><path d=\"M17.41 7.96l-1.37-1.37c-.4-.4-.92-.59-1.43-.59-.52 0-1.04.2-1.43.59L10.3 9.45l-7.72 7.72c-.78.78-.78 2.05 0 2.83L4 21.41c.39.39.9.59 1.41.59.51 0 1.02-.2 1.41-.59l7.78-7.78 2.81-2.81c.8-.78.8-2.07 0-2.86zM5.41 20L4 18.59l7.72-7.72 1.47 1.35L5.41 20z\"/>\n",
              "  </svg>\n",
              "      </button>\n",
              "      \n",
              "  <style>\n",
              "    .colab-df-container {\n",
              "      display:flex;\n",
              "      flex-wrap:wrap;\n",
              "      gap: 12px;\n",
              "    }\n",
              "\n",
              "    .colab-df-convert {\n",
              "      background-color: #E8F0FE;\n",
              "      border: none;\n",
              "      border-radius: 50%;\n",
              "      cursor: pointer;\n",
              "      display: none;\n",
              "      fill: #1967D2;\n",
              "      height: 32px;\n",
              "      padding: 0 0 0 0;\n",
              "      width: 32px;\n",
              "    }\n",
              "\n",
              "    .colab-df-convert:hover {\n",
              "      background-color: #E2EBFA;\n",
              "      box-shadow: 0px 1px 2px rgba(60, 64, 67, 0.3), 0px 1px 3px 1px rgba(60, 64, 67, 0.15);\n",
              "      fill: #174EA6;\n",
              "    }\n",
              "\n",
              "    [theme=dark] .colab-df-convert {\n",
              "      background-color: #3B4455;\n",
              "      fill: #D2E3FC;\n",
              "    }\n",
              "\n",
              "    [theme=dark] .colab-df-convert:hover {\n",
              "      background-color: #434B5C;\n",
              "      box-shadow: 0px 1px 3px 1px rgba(0, 0, 0, 0.15);\n",
              "      filter: drop-shadow(0px 1px 2px rgba(0, 0, 0, 0.3));\n",
              "      fill: #FFFFFF;\n",
              "    }\n",
              "  </style>\n",
              "\n",
              "      <script>\n",
              "        const buttonEl =\n",
              "          document.querySelector('#df-8a9a1e42-afe5-4fc3-81b1-bab8ff0af941 button.colab-df-convert');\n",
              "        buttonEl.style.display =\n",
              "          google.colab.kernel.accessAllowed ? 'block' : 'none';\n",
              "\n",
              "        async function convertToInteractive(key) {\n",
              "          const element = document.querySelector('#df-8a9a1e42-afe5-4fc3-81b1-bab8ff0af941');\n",
              "          const dataTable =\n",
              "            await google.colab.kernel.invokeFunction('convertToInteractive',\n",
              "                                                     [key], {});\n",
              "          if (!dataTable) return;\n",
              "\n",
              "          const docLinkHtml = 'Like what you see? Visit the ' +\n",
              "            '<a target=\"_blank\" href=https://colab.research.google.com/notebooks/data_table.ipynb>data table notebook</a>'\n",
              "            + ' to learn more about interactive tables.';\n",
              "          element.innerHTML = '';\n",
              "          dataTable['output_type'] = 'display_data';\n",
              "          await google.colab.output.renderOutput(dataTable, element);\n",
              "          const docLink = document.createElement('div');\n",
              "          docLink.innerHTML = docLinkHtml;\n",
              "          element.appendChild(docLink);\n",
              "        }\n",
              "      </script>\n",
              "    </div>\n",
              "  </div>\n",
              "  "
            ]
          },
          "metadata": {},
          "execution_count": 4
        }
      ]
    },
    {
      "cell_type": "code",
      "source": [
        "df"
      ],
      "metadata": {
        "colab": {
          "base_uri": "https://localhost:8080/",
          "height": 770
        },
        "id": "9SUw9-vqosrp",
        "outputId": "3e0d057b-b5c2-4b37-f293-d136326699b0"
      },
      "execution_count": 5,
      "outputs": [
        {
          "output_type": "execute_result",
          "data": {
            "text/plain": [
              "   kota_administrasi  jenis_objek                          lokasi  \\\n",
              "0      Jakarta Barat  Lampu Taman  Taman Blok D4 Alpa Indah Joglo   \n",
              "1      Jakarta Utara    Lampu TPU                TPU Sungai Bambu   \n",
              "2      Jakarta Utara    Lampu TPU              TPU Jembatan Sampi   \n",
              "3      Jakarta Utara    Lampu TPU                  TPU Bulak Turi   \n",
              "4      Jakarta Utara    Lampu TPU                    TPU Malaka I   \n",
              "5      Jakarta Timur    Lampu TPU             TPU KAMPUNG BARU II   \n",
              "6    Jakarta Selatan    Lampu TPU                      TPU Cikoko   \n",
              "7    Jakarta Selatan    Lampu TPU       TPU Tanah Kusir Bag. Atas   \n",
              "8      Jakarta Timur    Lampu TPU            TPU KOBER JATINEGARA   \n",
              "9      Jakarta Timur    Lampu TPU               TPU SUSUKAN ISLAM   \n",
              "10     Jakarta Utara    Lampu TPU        TPU Semper (Budi Dharma)   \n",
              "11     Jakarta Utara    Lampu TPU              TPU Kampung Mangga   \n",
              "12     Jakarta Utara    Lampu TPU                 TPU Tegal Kunir   \n",
              "13     Jakarta Timur    Lampu TPU                   TPU CIJANTUNG   \n",
              "14   Jakarta Selatan  Lampu Taman                  Taman Tabebuya   \n",
              "15   Jakarta Selatan    Lampu TPU             TPU Menteng Pulo II   \n",
              "16   Jakarta Selatan    Lampu TPU             TPU Srengseng Sawah   \n",
              "17   Jakarta Selatan    Lampu TPU             TPU Kampung Kandang   \n",
              "18   Jakarta Selatan    Lampu TPU          TPU Jeruk Purut (atas)   \n",
              "19     Jakarta Barat    Lampu TPU            TPU Sukabumi Selatan   \n",
              "20     Jakarta Timur    Lampu TPU                    TPU PRUMPUNG   \n",
              "21     Jakarta Barat    Lampu TPU     TPU Tegal Alur Unit Kristen   \n",
              "22   Jakarta Selatan    Lampu TPU          TPU Menteng Pulo Utara   \n",
              "\n",
              "    jumlah_tiang  jumlah_lampu   armature tipe/jenis_lampu  \\\n",
              "0              1             1        HRC        HPL-N 125   \n",
              "1              2             2        HRC              NaN   \n",
              "2              3             3        HRC              NaN   \n",
              "3              4             4        HRC              NaN   \n",
              "4              5             5        HRC         250 Watt   \n",
              "5              6             6        HRC         250 Watt   \n",
              "6              7             7        HRC         250 Watt   \n",
              "7              8             8        HRC         125 Watt   \n",
              "8              9             9        HRC         250 Watt   \n",
              "9             10            10        HRC         250 Watt   \n",
              "10            11            11        HRC              NaN   \n",
              "11            12            12        HRC         250 Watt   \n",
              "12            13            13        HRC         250 Watt   \n",
              "13            14            14        HRC         250 Watt   \n",
              "14            15            15  Globe 0.5        HPL-N 125   \n",
              "15            16            16        HRC         250 Watt   \n",
              "16            17            17        HRC         250 Watt   \n",
              "17            18            18  Globe 30\"         125 Watt   \n",
              "18            19            19        HRC         250 Watt   \n",
              "19            20            20        HRC         250 Watt   \n",
              "20            22            22        HRC         250 Watt   \n",
              "21            25            25        HRC         250 Watt   \n",
              "22            28            28        HRC         250 Watt   \n",
              "\n",
              "                                       keterangan  \n",
              "0                                             NaN  \n",
              "1   Tiang lampu tenaga surya satu lampu dan panel  \n",
              "2   Tiang lampu tenaga surya satu lampu dan panel  \n",
              "3   Tiang lampu tenaga surya satu lampu dan panel  \n",
              "4                      Tiang lampu PJU satu lampu  \n",
              "5                      Tiang Lampu PJU Satu Lampu  \n",
              "6                            Lampu PJU satu lampu  \n",
              "7                 Lampu antik Pipa BRC satu lampu  \n",
              "8                            Tiang PJU satu lampu  \n",
              "9                            Tiang PJU satu lampu  \n",
              "10  Tiang lampu tenaga surya satu lampu dan panel  \n",
              "11                     Tiang lampu PJU satu lampu  \n",
              "12                     Tiang lampu PJU satu lampu  \n",
              "13                           Tiang PJU satu lampu  \n",
              "14                                            NaN  \n",
              "15                           Lampu PJU satu lampu  \n",
              "16                           Lampu PJU Satu Lampu  \n",
              "17              Lampu Taman Antik Pipa satu lampu  \n",
              "18                           Lampu PJU Satu Lampu  \n",
              "19                     Tiang lampu PJU satu Lampu  \n",
              "20                           Tiang PJU satu lampu  \n",
              "21                           Tiang PJU satu Lampu  \n",
              "22                     Lampu tiang PJU satu lampu  "
            ],
            "text/html": [
              "\n",
              "  <div id=\"df-a6e6af69-0af5-4879-9558-1034d33cbf29\">\n",
              "    <div class=\"colab-df-container\">\n",
              "      <div>\n",
              "<style scoped>\n",
              "    .dataframe tbody tr th:only-of-type {\n",
              "        vertical-align: middle;\n",
              "    }\n",
              "\n",
              "    .dataframe tbody tr th {\n",
              "        vertical-align: top;\n",
              "    }\n",
              "\n",
              "    .dataframe thead th {\n",
              "        text-align: right;\n",
              "    }\n",
              "</style>\n",
              "<table border=\"1\" class=\"dataframe\">\n",
              "  <thead>\n",
              "    <tr style=\"text-align: right;\">\n",
              "      <th></th>\n",
              "      <th>kota_administrasi</th>\n",
              "      <th>jenis_objek</th>\n",
              "      <th>lokasi</th>\n",
              "      <th>jumlah_tiang</th>\n",
              "      <th>jumlah_lampu</th>\n",
              "      <th>armature</th>\n",
              "      <th>tipe/jenis_lampu</th>\n",
              "      <th>keterangan</th>\n",
              "    </tr>\n",
              "  </thead>\n",
              "  <tbody>\n",
              "    <tr>\n",
              "      <th>0</th>\n",
              "      <td>Jakarta Barat</td>\n",
              "      <td>Lampu Taman</td>\n",
              "      <td>Taman Blok D4 Alpa Indah Joglo</td>\n",
              "      <td>1</td>\n",
              "      <td>1</td>\n",
              "      <td>HRC</td>\n",
              "      <td>HPL-N 125</td>\n",
              "      <td>NaN</td>\n",
              "    </tr>\n",
              "    <tr>\n",
              "      <th>1</th>\n",
              "      <td>Jakarta Utara</td>\n",
              "      <td>Lampu TPU</td>\n",
              "      <td>TPU Sungai Bambu</td>\n",
              "      <td>2</td>\n",
              "      <td>2</td>\n",
              "      <td>HRC</td>\n",
              "      <td>NaN</td>\n",
              "      <td>Tiang lampu tenaga surya satu lampu dan panel</td>\n",
              "    </tr>\n",
              "    <tr>\n",
              "      <th>2</th>\n",
              "      <td>Jakarta Utara</td>\n",
              "      <td>Lampu TPU</td>\n",
              "      <td>TPU Jembatan Sampi</td>\n",
              "      <td>3</td>\n",
              "      <td>3</td>\n",
              "      <td>HRC</td>\n",
              "      <td>NaN</td>\n",
              "      <td>Tiang lampu tenaga surya satu lampu dan panel</td>\n",
              "    </tr>\n",
              "    <tr>\n",
              "      <th>3</th>\n",
              "      <td>Jakarta Utara</td>\n",
              "      <td>Lampu TPU</td>\n",
              "      <td>TPU Bulak Turi</td>\n",
              "      <td>4</td>\n",
              "      <td>4</td>\n",
              "      <td>HRC</td>\n",
              "      <td>NaN</td>\n",
              "      <td>Tiang lampu tenaga surya satu lampu dan panel</td>\n",
              "    </tr>\n",
              "    <tr>\n",
              "      <th>4</th>\n",
              "      <td>Jakarta Utara</td>\n",
              "      <td>Lampu TPU</td>\n",
              "      <td>TPU Malaka I</td>\n",
              "      <td>5</td>\n",
              "      <td>5</td>\n",
              "      <td>HRC</td>\n",
              "      <td>250 Watt</td>\n",
              "      <td>Tiang lampu PJU satu lampu</td>\n",
              "    </tr>\n",
              "    <tr>\n",
              "      <th>5</th>\n",
              "      <td>Jakarta Timur</td>\n",
              "      <td>Lampu TPU</td>\n",
              "      <td>TPU KAMPUNG BARU II</td>\n",
              "      <td>6</td>\n",
              "      <td>6</td>\n",
              "      <td>HRC</td>\n",
              "      <td>250 Watt</td>\n",
              "      <td>Tiang Lampu PJU Satu Lampu</td>\n",
              "    </tr>\n",
              "    <tr>\n",
              "      <th>6</th>\n",
              "      <td>Jakarta Selatan</td>\n",
              "      <td>Lampu TPU</td>\n",
              "      <td>TPU Cikoko</td>\n",
              "      <td>7</td>\n",
              "      <td>7</td>\n",
              "      <td>HRC</td>\n",
              "      <td>250 Watt</td>\n",
              "      <td>Lampu PJU satu lampu</td>\n",
              "    </tr>\n",
              "    <tr>\n",
              "      <th>7</th>\n",
              "      <td>Jakarta Selatan</td>\n",
              "      <td>Lampu TPU</td>\n",
              "      <td>TPU Tanah Kusir Bag. Atas</td>\n",
              "      <td>8</td>\n",
              "      <td>8</td>\n",
              "      <td>HRC</td>\n",
              "      <td>125 Watt</td>\n",
              "      <td>Lampu antik Pipa BRC satu lampu</td>\n",
              "    </tr>\n",
              "    <tr>\n",
              "      <th>8</th>\n",
              "      <td>Jakarta Timur</td>\n",
              "      <td>Lampu TPU</td>\n",
              "      <td>TPU KOBER JATINEGARA</td>\n",
              "      <td>9</td>\n",
              "      <td>9</td>\n",
              "      <td>HRC</td>\n",
              "      <td>250 Watt</td>\n",
              "      <td>Tiang PJU satu lampu</td>\n",
              "    </tr>\n",
              "    <tr>\n",
              "      <th>9</th>\n",
              "      <td>Jakarta Timur</td>\n",
              "      <td>Lampu TPU</td>\n",
              "      <td>TPU SUSUKAN ISLAM</td>\n",
              "      <td>10</td>\n",
              "      <td>10</td>\n",
              "      <td>HRC</td>\n",
              "      <td>250 Watt</td>\n",
              "      <td>Tiang PJU satu lampu</td>\n",
              "    </tr>\n",
              "    <tr>\n",
              "      <th>10</th>\n",
              "      <td>Jakarta Utara</td>\n",
              "      <td>Lampu TPU</td>\n",
              "      <td>TPU Semper (Budi Dharma)</td>\n",
              "      <td>11</td>\n",
              "      <td>11</td>\n",
              "      <td>HRC</td>\n",
              "      <td>NaN</td>\n",
              "      <td>Tiang lampu tenaga surya satu lampu dan panel</td>\n",
              "    </tr>\n",
              "    <tr>\n",
              "      <th>11</th>\n",
              "      <td>Jakarta Utara</td>\n",
              "      <td>Lampu TPU</td>\n",
              "      <td>TPU Kampung Mangga</td>\n",
              "      <td>12</td>\n",
              "      <td>12</td>\n",
              "      <td>HRC</td>\n",
              "      <td>250 Watt</td>\n",
              "      <td>Tiang lampu PJU satu lampu</td>\n",
              "    </tr>\n",
              "    <tr>\n",
              "      <th>12</th>\n",
              "      <td>Jakarta Utara</td>\n",
              "      <td>Lampu TPU</td>\n",
              "      <td>TPU Tegal Kunir</td>\n",
              "      <td>13</td>\n",
              "      <td>13</td>\n",
              "      <td>HRC</td>\n",
              "      <td>250 Watt</td>\n",
              "      <td>Tiang lampu PJU satu lampu</td>\n",
              "    </tr>\n",
              "    <tr>\n",
              "      <th>13</th>\n",
              "      <td>Jakarta Timur</td>\n",
              "      <td>Lampu TPU</td>\n",
              "      <td>TPU CIJANTUNG</td>\n",
              "      <td>14</td>\n",
              "      <td>14</td>\n",
              "      <td>HRC</td>\n",
              "      <td>250 Watt</td>\n",
              "      <td>Tiang PJU satu lampu</td>\n",
              "    </tr>\n",
              "    <tr>\n",
              "      <th>14</th>\n",
              "      <td>Jakarta Selatan</td>\n",
              "      <td>Lampu Taman</td>\n",
              "      <td>Taman Tabebuya</td>\n",
              "      <td>15</td>\n",
              "      <td>15</td>\n",
              "      <td>Globe 0.5</td>\n",
              "      <td>HPL-N 125</td>\n",
              "      <td>NaN</td>\n",
              "    </tr>\n",
              "    <tr>\n",
              "      <th>15</th>\n",
              "      <td>Jakarta Selatan</td>\n",
              "      <td>Lampu TPU</td>\n",
              "      <td>TPU Menteng Pulo II</td>\n",
              "      <td>16</td>\n",
              "      <td>16</td>\n",
              "      <td>HRC</td>\n",
              "      <td>250 Watt</td>\n",
              "      <td>Lampu PJU satu lampu</td>\n",
              "    </tr>\n",
              "    <tr>\n",
              "      <th>16</th>\n",
              "      <td>Jakarta Selatan</td>\n",
              "      <td>Lampu TPU</td>\n",
              "      <td>TPU Srengseng Sawah</td>\n",
              "      <td>17</td>\n",
              "      <td>17</td>\n",
              "      <td>HRC</td>\n",
              "      <td>250 Watt</td>\n",
              "      <td>Lampu PJU Satu Lampu</td>\n",
              "    </tr>\n",
              "    <tr>\n",
              "      <th>17</th>\n",
              "      <td>Jakarta Selatan</td>\n",
              "      <td>Lampu TPU</td>\n",
              "      <td>TPU Kampung Kandang</td>\n",
              "      <td>18</td>\n",
              "      <td>18</td>\n",
              "      <td>Globe 30\"</td>\n",
              "      <td>125 Watt</td>\n",
              "      <td>Lampu Taman Antik Pipa satu lampu</td>\n",
              "    </tr>\n",
              "    <tr>\n",
              "      <th>18</th>\n",
              "      <td>Jakarta Selatan</td>\n",
              "      <td>Lampu TPU</td>\n",
              "      <td>TPU Jeruk Purut (atas)</td>\n",
              "      <td>19</td>\n",
              "      <td>19</td>\n",
              "      <td>HRC</td>\n",
              "      <td>250 Watt</td>\n",
              "      <td>Lampu PJU Satu Lampu</td>\n",
              "    </tr>\n",
              "    <tr>\n",
              "      <th>19</th>\n",
              "      <td>Jakarta Barat</td>\n",
              "      <td>Lampu TPU</td>\n",
              "      <td>TPU Sukabumi Selatan</td>\n",
              "      <td>20</td>\n",
              "      <td>20</td>\n",
              "      <td>HRC</td>\n",
              "      <td>250 Watt</td>\n",
              "      <td>Tiang lampu PJU satu Lampu</td>\n",
              "    </tr>\n",
              "    <tr>\n",
              "      <th>20</th>\n",
              "      <td>Jakarta Timur</td>\n",
              "      <td>Lampu TPU</td>\n",
              "      <td>TPU PRUMPUNG</td>\n",
              "      <td>22</td>\n",
              "      <td>22</td>\n",
              "      <td>HRC</td>\n",
              "      <td>250 Watt</td>\n",
              "      <td>Tiang PJU satu lampu</td>\n",
              "    </tr>\n",
              "    <tr>\n",
              "      <th>21</th>\n",
              "      <td>Jakarta Barat</td>\n",
              "      <td>Lampu TPU</td>\n",
              "      <td>TPU Tegal Alur Unit Kristen</td>\n",
              "      <td>25</td>\n",
              "      <td>25</td>\n",
              "      <td>HRC</td>\n",
              "      <td>250 Watt</td>\n",
              "      <td>Tiang PJU satu Lampu</td>\n",
              "    </tr>\n",
              "    <tr>\n",
              "      <th>22</th>\n",
              "      <td>Jakarta Selatan</td>\n",
              "      <td>Lampu TPU</td>\n",
              "      <td>TPU Menteng Pulo Utara</td>\n",
              "      <td>28</td>\n",
              "      <td>28</td>\n",
              "      <td>HRC</td>\n",
              "      <td>250 Watt</td>\n",
              "      <td>Lampu tiang PJU satu lampu</td>\n",
              "    </tr>\n",
              "  </tbody>\n",
              "</table>\n",
              "</div>\n",
              "      <button class=\"colab-df-convert\" onclick=\"convertToInteractive('df-a6e6af69-0af5-4879-9558-1034d33cbf29')\"\n",
              "              title=\"Convert this dataframe to an interactive table.\"\n",
              "              style=\"display:none;\">\n",
              "        \n",
              "  <svg xmlns=\"http://www.w3.org/2000/svg\" height=\"24px\"viewBox=\"0 0 24 24\"\n",
              "       width=\"24px\">\n",
              "    <path d=\"M0 0h24v24H0V0z\" fill=\"none\"/>\n",
              "    <path d=\"M18.56 5.44l.94 2.06.94-2.06 2.06-.94-2.06-.94-.94-2.06-.94 2.06-2.06.94zm-11 1L8.5 8.5l.94-2.06 2.06-.94-2.06-.94L8.5 2.5l-.94 2.06-2.06.94zm10 10l.94 2.06.94-2.06 2.06-.94-2.06-.94-.94-2.06-.94 2.06-2.06.94z\"/><path d=\"M17.41 7.96l-1.37-1.37c-.4-.4-.92-.59-1.43-.59-.52 0-1.04.2-1.43.59L10.3 9.45l-7.72 7.72c-.78.78-.78 2.05 0 2.83L4 21.41c.39.39.9.59 1.41.59.51 0 1.02-.2 1.41-.59l7.78-7.78 2.81-2.81c.8-.78.8-2.07 0-2.86zM5.41 20L4 18.59l7.72-7.72 1.47 1.35L5.41 20z\"/>\n",
              "  </svg>\n",
              "      </button>\n",
              "      \n",
              "  <style>\n",
              "    .colab-df-container {\n",
              "      display:flex;\n",
              "      flex-wrap:wrap;\n",
              "      gap: 12px;\n",
              "    }\n",
              "\n",
              "    .colab-df-convert {\n",
              "      background-color: #E8F0FE;\n",
              "      border: none;\n",
              "      border-radius: 50%;\n",
              "      cursor: pointer;\n",
              "      display: none;\n",
              "      fill: #1967D2;\n",
              "      height: 32px;\n",
              "      padding: 0 0 0 0;\n",
              "      width: 32px;\n",
              "    }\n",
              "\n",
              "    .colab-df-convert:hover {\n",
              "      background-color: #E2EBFA;\n",
              "      box-shadow: 0px 1px 2px rgba(60, 64, 67, 0.3), 0px 1px 3px 1px rgba(60, 64, 67, 0.15);\n",
              "      fill: #174EA6;\n",
              "    }\n",
              "\n",
              "    [theme=dark] .colab-df-convert {\n",
              "      background-color: #3B4455;\n",
              "      fill: #D2E3FC;\n",
              "    }\n",
              "\n",
              "    [theme=dark] .colab-df-convert:hover {\n",
              "      background-color: #434B5C;\n",
              "      box-shadow: 0px 1px 3px 1px rgba(0, 0, 0, 0.15);\n",
              "      filter: drop-shadow(0px 1px 2px rgba(0, 0, 0, 0.3));\n",
              "      fill: #FFFFFF;\n",
              "    }\n",
              "  </style>\n",
              "\n",
              "      <script>\n",
              "        const buttonEl =\n",
              "          document.querySelector('#df-a6e6af69-0af5-4879-9558-1034d33cbf29 button.colab-df-convert');\n",
              "        buttonEl.style.display =\n",
              "          google.colab.kernel.accessAllowed ? 'block' : 'none';\n",
              "\n",
              "        async function convertToInteractive(key) {\n",
              "          const element = document.querySelector('#df-a6e6af69-0af5-4879-9558-1034d33cbf29');\n",
              "          const dataTable =\n",
              "            await google.colab.kernel.invokeFunction('convertToInteractive',\n",
              "                                                     [key], {});\n",
              "          if (!dataTable) return;\n",
              "\n",
              "          const docLinkHtml = 'Like what you see? Visit the ' +\n",
              "            '<a target=\"_blank\" href=https://colab.research.google.com/notebooks/data_table.ipynb>data table notebook</a>'\n",
              "            + ' to learn more about interactive tables.';\n",
              "          element.innerHTML = '';\n",
              "          dataTable['output_type'] = 'display_data';\n",
              "          await google.colab.output.renderOutput(dataTable, element);\n",
              "          const docLink = document.createElement('div');\n",
              "          docLink.innerHTML = docLinkHtml;\n",
              "          element.appendChild(docLink);\n",
              "        }\n",
              "      </script>\n",
              "    </div>\n",
              "  </div>\n",
              "  "
            ]
          },
          "metadata": {},
          "execution_count": 5
        }
      ]
    },
    {
      "cell_type": "code",
      "source": [
        "df.isnull().sum()"
      ],
      "metadata": {
        "colab": {
          "base_uri": "https://localhost:8080/"
        },
        "id": "_918K1WRotPw",
        "outputId": "7e41687a-ac14-448d-93cc-9e44431ff49b"
      },
      "execution_count": 6,
      "outputs": [
        {
          "output_type": "execute_result",
          "data": {
            "text/plain": [
              "kota_administrasi    0\n",
              "jenis_objek          0\n",
              "lokasi               0\n",
              "jumlah_tiang         0\n",
              "jumlah_lampu         0\n",
              "armature             0\n",
              "tipe/jenis_lampu     4\n",
              "keterangan           2\n",
              "dtype: int64"
            ]
          },
          "metadata": {},
          "execution_count": 6
        }
      ]
    },
    {
      "cell_type": "code",
      "source": [
        "df.plot(kind='scatter', x='jumlah_tiang', y='jumlah_lampu') #UNTUK MEMANGGI VARIABEL\n",
        "\n",
        "plt.title('Omzet toko bunga')\n",
        "plt.xlabel('volume')\n",
        "plt.ylabel('omzet')\n",
        "plt.xlim(0, 30)\n",
        "plt.ylim(0, 30)\n",
        "plt.grid(True)\n",
        "plt.show()"
      ],
      "metadata": {
        "colab": {
          "base_uri": "https://localhost:8080/",
          "height": 295
        },
        "id": "TQqJbVzCow1I",
        "outputId": "9f295b49-caec-417f-a362-ac9de611aabb"
      },
      "execution_count": 7,
      "outputs": [
        {
          "output_type": "display_data",
          "data": {
            "text/plain": [
              "<Figure size 432x288 with 1 Axes>"
            ],
            "image/png": "[encoded data removed]"
          },
          "metadata": {
            "needs_background": "light"
          }
        }
      ]
    },
    {
      "cell_type": "code",
      "source": [
        "import numpy as np\n",
        "\n",
        "x = np.array(df['jumlah_tiang'])\n",
        "y = np.array(df['jumlah_lampu'])\n",
        "\n",
        "print(f'x : {x}')\n",
        "print(f'y : {y}') "
      ],
      "metadata": {
        "colab": {
          "base_uri": "https://localhost:8080/"
        },
        "id": "Fy9_TMIZAq9r",
        "outputId": "32b1005b-5bd2-4afe-8523-702ee160e3e6"
      },
      "execution_count": 8,
      "outputs": [
        {
          "output_type": "stream",
          "name": "stdout",
          "text": [
            "x : [ 1  2  3  4  5  6  7  8  9 10 11 12 13 14 15 16 17 18 19 20 22 25 28]\n",
            "y : [ 1  2  3  4  5  6  7  8  9 10 11 12 13 14 15 16 17 18 19 20 22 25 28]\n"
          ]
        }
      ]
    },
    {
      "cell_type": "code",
      "source": [
        "x"
      ],
      "metadata": {
        "colab": {
          "base_uri": "https://localhost:8080/"
        },
        "id": "E0Obzx6aAz6z",
        "outputId": "d9c0a876-492d-454f-dd5e-fdcc06017a90"
      },
      "execution_count": 9,
      "outputs": [
        {
          "output_type": "execute_result",
          "data": {
            "text/plain": [
              "array([ 1,  2,  3,  4,  5,  6,  7,  8,  9, 10, 11, 12, 13, 14, 15, 16, 17,\n",
              "       18, 19, 20, 22, 25, 28])"
            ]
          },
          "metadata": {},
          "execution_count": 9
        }
      ]
    },
    {
      "cell_type": "code",
      "source": [
        "x = x.reshape(-1, 1) \n",
        "x.shape"
      ],
      "metadata": {
        "colab": {
          "base_uri": "https://localhost:8080/"
        },
        "id": "9TQQ5gdpA0oz",
        "outputId": "d22a30ec-ef47-4f8a-96df-808be9073b24"
      },
      "execution_count": 10,
      "outputs": [
        {
          "output_type": "execute_result",
          "data": {
            "text/plain": [
              "(23, 1)"
            ]
          },
          "metadata": {},
          "execution_count": 10
        }
      ]
    },
    {
      "cell_type": "code",
      "source": [
        "from sklearn.linear_model import LinearRegression #MEMANGGIL MODEL REGRESSI LINEAR\n",
        "\n",
        "model = LinearRegression() # VARIABLE MODEL BIOSA DI GANTI\n",
        "model.fit(x, y)"
      ],
      "metadata": {
        "colab": {
          "base_uri": "https://localhost:8080/"
        },
        "id": "HzROpVppA4ak",
        "outputId": "b15075e3-d556-4c21-f1ce-90021e9dd574"
      },
      "execution_count": 11,
      "outputs": [
        {
          "output_type": "execute_result",
          "data": {
            "text/plain": [
              "LinearRegression()"
            ]
          },
          "metadata": {},
          "execution_count": 11
        }
      ]
    },
    {
      "cell_type": "code",
      "source": [
        "x_vis = np.array([0, 30]).reshape(-1, 1) # pembuatan garis merah dari x\n",
        "y_vis = model.predict(x_vis) # model machine learning"
      ],
      "metadata": {
        "id": "Pb7h2BJmA8UV"
      },
      "execution_count": 12,
      "outputs": []
    },
    {
      "cell_type": "code",
      "source": [
        "plt.scatter(x, y)\n",
        "plt.plot(x_vis, y_vis, '-r')\n",
        "plt.title('indeks kesejahteraan warga')\n",
        "plt.xlabel('Tiang')\n",
        "plt.ylabel('Lampu')\n",
        "plt.xlim(0, 30)\n",
        "plt.ylim(0, 30)\n",
        "plt.grid(True)\n",
        "plt.show()"
      ],
      "metadata": {
        "colab": {
          "base_uri": "https://localhost:8080/",
          "height": 295
        },
        "id": "6ZyTZ1-lBAaF",
        "outputId": "0959ec22-0724-4e6f-fcc3-bf791d78a6fb"
      },
      "execution_count": 13,
      "outputs": [
        {
          "output_type": "display_data",
          "data": {
            "text/plain": [
              "<Figure size 432x288 with 1 Axes>"
            ],
            "image/png": "[encoded data removed]"
          },
          "metadata": {
            "needs_background": "light"
          }
        }
      ]
    },
    {
      "cell_type": "code",
      "source": [
        "print(f'intercept : {model.intercept_}') \n",
        "print(f'slope : {model.coef_}')"
      ],
      "metadata": {
        "colab": {
          "base_uri": "https://localhost:8080/"
        },
        "id": "ySEdFBMDCRpZ",
        "outputId": "1f162c42-7365-4cc5-8cae-c64fa7e70464"
      },
      "execution_count": 14,
      "outputs": [
        {
          "output_type": "stream",
          "name": "stdout",
          "text": [
            "intercept : 3.552713678800501e-15\n",
            "slope : [1.]\n"
          ]
        }
      ]
    },
    {
      "cell_type": "code",
      "source": [
        "Jml_tiang = np.array([21, 23, 24, 26]).reshape(-1, 1)\n",
        "Jml_tiang"
      ],
      "metadata": {
        "colab": {
          "base_uri": "https://localhost:8080/"
        },
        "id": "SlNY1XS6CSTo",
        "outputId": "26c0101a-8398-48f7-916e-a197db7e9a1a"
      },
      "execution_count": 15,
      "outputs": [
        {
          "output_type": "execute_result",
          "data": {
            "text/plain": [
              "array([[21],\n",
              "       [23],\n",
              "       [24],\n",
              "       [26]])"
            ]
          },
          "metadata": {},
          "execution_count": 15
        }
      ]
    },
    {
      "cell_type": "code",
      "source": [
        "prediksi_lampu = model.predict(Jml_tiang)\n",
        "prediksi_lampu"
      ],
      "metadata": {
        "colab": {
          "base_uri": "https://localhost:8080/"
        },
        "id": "QZwGkQMHCpKL",
        "outputId": "4f4ac457-dd4e-46c5-9ce8-5cea2bb2c423"
      },
      "execution_count": 16,
      "outputs": [
        {
          "output_type": "execute_result",
          "data": {
            "text/plain": [
              "array([21., 23., 24., 26.])"
            ]
          },
          "metadata": {},
          "execution_count": 16
        }
      ]
    },
    {
      "cell_type": "code",
      "source": [
        "for tiang, lampu in zip(Jml_tiang, prediksi_lampu):\n",
        "  print(f'prediksi_tiang : {tiang} perediksi_lampu : {lampu}')"
      ],
      "metadata": {
        "colab": {
          "base_uri": "https://localhost:8080/"
        },
        "id": "m7KtkAG_C-IO",
        "outputId": "d44186cf-7c1a-4956-9b0a-89e498a0f660"
      },
      "execution_count": 17,
      "outputs": [
        {
          "output_type": "stream",
          "name": "stdout",
          "text": [
            "prediksi_tiang : [21] perediksi_lampu : 21.0\n",
            "prediksi_tiang : [23] perediksi_lampu : 23.0\n",
            "prediksi_tiang : [24] perediksi_lampu : 23.999999999999996\n",
            "prediksi_tiang : [26] perediksi_lampu : 25.999999999999996\n"
          ]
        }
      ]
    },
    {
      "cell_type": "code",
      "source": [
        "df['jumlah_lampu'].sum()"
      ],
      "metadata": {
        "colab": {
          "base_uri": "https://localhost:8080/"
        },
        "id": "Cep-G0V7UVul",
        "outputId": "8330b46e-93fe-4229-9042-8b1029646e7e"
      },
      "execution_count": 22,
      "outputs": [
        {
          "output_type": "execute_result",
          "data": {
            "text/plain": [
              "285"
            ]
          },
          "metadata": {},
          "execution_count": 22
        }
      ]
    },
    {
      "cell_type": "code",
      "source": [
        "df['jumlah_tiang'].sum()"
      ],
      "metadata": {
        "colab": {
          "base_uri": "https://localhost:8080/"
        },
        "id": "iYgGtK0MT3Cy",
        "outputId": "2e0dfeee-e991-4b7b-b089-77e6882a8af1"
      },
      "execution_count": 21,
      "outputs": [
        {
          "output_type": "execute_result",
          "data": {
            "text/plain": [
              "285"
            ]
          },
          "metadata": {},
          "execution_count": 21
        }
      ]
    },
    {
      "cell_type": "code",
      "source": [
        "#Grafik bar\n",
        "fig = plt.figure()\n",
        "ax = fig.add_axes([0,0,1,1])\n",
        "nama = ('jumlah_tiang', 'jumlah_lampu')\n",
        "banyak = (285, 285)\n",
        "plt.title(\"prediksi\")\n",
        "plt.bar(nama, banyak)\n",
        "plt.show()\n",
        "print(\"\")"
      ],
      "metadata": {
        "colab": {
          "base_uri": "https://localhost:8080/",
          "height": 371
        },
        "id": "KJpHeR4xH2gR",
        "outputId": "d95540c3-5b79-47b0-9e25-d69579966826"
      },
      "execution_count": 25,
      "outputs": [
        {
          "output_type": "display_data",
          "data": {
            "text/plain": [
              "<Figure size 432x288 with 1 Axes>"
            ],
            "image/png": "[encoded data removed]"
          },
          "metadata": {
            "needs_background": "light"
          }
        },
        {
          "output_type": "stream",
          "name": "stdout",
          "text": [
            "\n"
          ]
        }
      ]
    },
    {
      "cell_type": "code",
      "source": [
        "#pie chart\n",
        "fig = plt.figure()\n",
        "ax = fig.add_axes([0,0,1,1])\n",
        "ax.axis ('equal')\n",
        "plt.title(\"prediksi\")\n",
        "jml = ('jumlah_tiang', 'jumlah_lampu')\n",
        "banyak = (285, 285)\n",
        "ax.pie(banyak,labels=jml,autopct='%1.2f%%')\n",
        "plt.show()\n",
        "print('')"
      ],
      "metadata": {
        "colab": {
          "base_uri": "https://localhost:8080/",
          "height": 353
        },
        "id": "UsgmHRWtH23w",
        "outputId": "84ec5e21-5b83-45b9-b0b1-c97dde286d6f"
      },
      "execution_count": 24,
      "outputs": [
        {
          "output_type": "display_data",
          "data": {
            "text/plain": [
              "<Figure size 432x288 with 1 Axes>"
            ],
            "image/png": "[encoded data removed]"
          },
          "metadata": {}
        },
        {
          "output_type": "stream",
          "name": "stdout",
          "text": [
            "\n"
          ]
        }
      ]
    }
  ]
}