{
  "nbformat": 4,
  "nbformat_minor": 0,
  "metadata": {
    "colab": {
      "provenance": []
    },
    "kernelspec": {
      "name": "python3",
      "display_name": "Python 3"
    },
    "language_info": {
      "name": "python"
    }
  },
  "cells": [
    {
      "cell_type": "code",
      "execution_count": 1,
      "metadata": {
        "colab": {
          "base_uri": "https://localhost:8080/"
        },
        "id": "n0iH75a0H9tE",
        "outputId": "934d0fd6-a000-4219-9e6c-6b9555c03280"
      },
      "outputs": [
        {
          "output_type": "stream",
          "name": "stdout",
          "text": [
            "Drive already mounted at /content/drive; to attempt to forcibly remount, call drive.mount(\"/content/drive\", force_remount=True).\n"
          ]
        }
      ],
      "source": [
        "from google.colab import drive #memanggil package import drive\n",
        "drive.mount('/content/drive')"
      ]
    },
    {
      "cell_type": "code",
      "source": [
        "import matplotlib.pyplot as plt"
      ],
      "metadata": {
        "id": "bH6wzlvzbO_l"
      },
      "execution_count": 2,
      "outputs": []
    },
    {
      "cell_type": "code",
      "source": [
        "import pandas as pd #MANIPULASI DATA\n",
        "\n",
        "path = '/content/drive/MyDrive/CSV/kesehatan1 - Sheet1.csv' # PATH ATAU PEMANGGILAN\n",
        "\n",
        "df = pd.read_csv(path)#DF : DATAFRAME\n",
        "\n",
        "df.describe()"
      ],
      "metadata": {
        "colab": {
          "base_uri": "https://localhost:8080/",
          "height": 300
        },
        "id": "gUTM8Fg4bbNU",
        "outputId": "bd904bdb-9e4a-4ab4-eb54-ad646e3468ef"
      },
      "execution_count": 3,
      "outputs": [
        {
          "output_type": "execute_result",
          "data": {
            "text/plain": [
              "            pm10       so2         co         o3        no2        max\n",
              "count  30.000000  30.00000  30.000000  30.000000  30.000000  30.000000\n",
              "mean   38.600000  22.80000  16.666667  34.933333  10.066667  41.500000\n",
              "std     9.357276  11.55019   6.556562  10.478001   4.266415  10.176884\n",
              "min    23.000000   7.00000   8.000000  23.000000   4.000000  25.000000\n",
              "25%    31.500000  14.00000  12.000000  29.250000   8.000000  35.250000\n",
              "50%    37.500000  23.00000  14.500000  32.500000   9.000000  38.500000\n",
              "75%    45.750000  28.75000  20.750000  37.500000  11.000000  45.750000\n",
              "max    61.000000  60.00000  36.000000  74.000000  20.000000  74.000000"
            ],
            "text/html": [
              "\n",
              "  <div id=\"df-3ee32b14-2c61-4987-b845-e53ef8db5372\">\n",
              "    <div class=\"colab-df-container\">\n",
              "      <div>\n",
              "<style scoped>\n",
              "    .dataframe tbody tr th:only-of-type {\n",
              "        vertical-align: middle;\n",
              "    }\n",
              "\n",
              "    .dataframe tbody tr th {\n",
              "        vertical-align: top;\n",
              "    }\n",
              "\n",
              "    .dataframe thead th {\n",
              "        text-align: right;\n",
              "    }\n",
              "</style>\n",
              "<table border=\"1\" class=\"dataframe\">\n",
              "  <thead>\n",
              "    <tr style=\"text-align: right;\">\n",
              "      <th></th>\n",
              "      <th>pm10</th>\n",
              "      <th>so2</th>\n",
              "      <th>co</th>\n",
              "      <th>o3</th>\n",
              "      <th>no2</th>\n",
              "      <th>max</th>\n",
              "    </tr>\n",
              "  </thead>\n",
              "  <tbody>\n",
              "    <tr>\n",
              "      <th>count</th>\n",
              "      <td>30.000000</td>\n",
              "      <td>30.00000</td>\n",
              "      <td>30.000000</td>\n",
              "      <td>30.000000</td>\n",
              "      <td>30.000000</td>\n",
              "      <td>30.000000</td>\n",
              "    </tr>\n",
              "    <tr>\n",
              "      <th>mean</th>\n",
              "      <td>38.600000</td>\n",
              "      <td>22.80000</td>\n",
              "      <td>16.666667</td>\n",
              "      <td>34.933333</td>\n",
              "      <td>10.066667</td>\n",
              "      <td>41.500000</td>\n",
              "    </tr>\n",
              "    <tr>\n",
              "      <th>std</th>\n",
              "      <td>9.357276</td>\n",
              "      <td>11.55019</td>\n",
              "      <td>6.556562</td>\n",
              "      <td>10.478001</td>\n",
              "      <td>4.266415</td>\n",
              "      <td>10.176884</td>\n",
              "    </tr>\n",
              "    <tr>\n",
              "      <th>min</th>\n",
              "      <td>23.000000</td>\n",
              "      <td>7.00000</td>\n",
              "      <td>8.000000</td>\n",
              "      <td>23.000000</td>\n",
              "      <td>4.000000</td>\n",
              "      <td>25.000000</td>\n",
              "    </tr>\n",
              "    <tr>\n",
              "      <th>25%</th>\n",
              "      <td>31.500000</td>\n",
              "      <td>14.00000</td>\n",
              "      <td>12.000000</td>\n",
              "      <td>29.250000</td>\n",
              "      <td>8.000000</td>\n",
              "      <td>35.250000</td>\n",
              "    </tr>\n",
              "    <tr>\n",
              "      <th>50%</th>\n",
              "      <td>37.500000</td>\n",
              "      <td>23.00000</td>\n",
              "      <td>14.500000</td>\n",
              "      <td>32.500000</td>\n",
              "      <td>9.000000</td>\n",
              "      <td>38.500000</td>\n",
              "    </tr>\n",
              "    <tr>\n",
              "      <th>75%</th>\n",
              "      <td>45.750000</td>\n",
              "      <td>28.75000</td>\n",
              "      <td>20.750000</td>\n",
              "      <td>37.500000</td>\n",
              "      <td>11.000000</td>\n",
              "      <td>45.750000</td>\n",
              "    </tr>\n",
              "    <tr>\n",
              "      <th>max</th>\n",
              "      <td>61.000000</td>\n",
              "      <td>60.00000</td>\n",
              "      <td>36.000000</td>\n",
              "      <td>74.000000</td>\n",
              "      <td>20.000000</td>\n",
              "      <td>74.000000</td>\n",
              "    </tr>\n",
              "  </tbody>\n",
              "</table>\n",
              "</div>\n",
              "      <button class=\"colab-df-convert\" onclick=\"convertToInteractive('df-3ee32b14-2c61-4987-b845-e53ef8db5372')\"\n",
              "              title=\"Convert this dataframe to an interactive table.\"\n",
              "              style=\"display:none;\">\n",
              "        \n",
              "  <svg xmlns=\"http://www.w3.org/2000/svg\" height=\"24px\"viewBox=\"0 0 24 24\"\n",
              "       width=\"24px\">\n",
              "    <path d=\"M0 0h24v24H0V0z\" fill=\"none\"/>\n",
              "    <path d=\"M18.56 5.44l.94 2.06.94-2.06 2.06-.94-2.06-.94-.94-2.06-.94 2.06-2.06.94zm-11 1L8.5 8.5l.94-2.06 2.06-.94-2.06-.94L8.5 2.5l-.94 2.06-2.06.94zm10 10l.94 2.06.94-2.06 2.06-.94-2.06-.94-.94-2.06-.94 2.06-2.06.94z\"/><path d=\"M17.41 7.96l-1.37-1.37c-.4-.4-.92-.59-1.43-.59-.52 0-1.04.2-1.43.59L10.3 9.45l-7.72 7.72c-.78.78-.78 2.05 0 2.83L4 21.41c.39.39.9.59 1.41.59.51 0 1.02-.2 1.41-.59l7.78-7.78 2.81-2.81c.8-.78.8-2.07 0-2.86zM5.41 20L4 18.59l7.72-7.72 1.47 1.35L5.41 20z\"/>\n",
              "  </svg>\n",
              "      </button>\n",
              "      \n",
              "  <style>\n",
              "    .colab-df-container {\n",
              "      display:flex;\n",
              "      flex-wrap:wrap;\n",
              "      gap: 12px;\n",
              "    }\n",
              "\n",
              "    .colab-df-convert {\n",
              "      background-color: #E8F0FE;\n",
              "      border: none;\n",
              "      border-radius: 50%;\n",
              "      cursor: pointer;\n",
              "      display: none;\n",
              "      fill: #1967D2;\n",
              "      height: 32px;\n",
              "      padding: 0 0 0 0;\n",
              "      width: 32px;\n",
              "    }\n",
              "\n",
              "    .colab-df-convert:hover {\n",
              "      background-color: #E2EBFA;\n",
              "      box-shadow: 0px 1px 2px rgba(60, 64, 67, 0.3), 0px 1px 3px 1px rgba(60, 64, 67, 0.15);\n",
              "      fill: #174EA6;\n",
              "    }\n",
              "\n",
              "    [theme=dark] .colab-df-convert {\n",
              "      background-color: #3B4455;\n",
              "      fill: #D2E3FC;\n",
              "    }\n",
              "\n",
              "    [theme=dark] .colab-df-convert:hover {\n",
              "      background-color: #434B5C;\n",
              "      box-shadow: 0px 1px 3px 1px rgba(0, 0, 0, 0.15);\n",
              "      filter: drop-shadow(0px 1px 2px rgba(0, 0, 0, 0.3));\n",
              "      fill: #FFFFFF;\n",
              "    }\n",
              "  </style>\n",
              "\n",
              "      <script>\n",
              "        const buttonEl =\n",
              "          document.querySelector('#df-3ee32b14-2c61-4987-b845-e53ef8db5372 button.colab-df-convert');\n",
              "        buttonEl.style.display =\n",
              "          google.colab.kernel.accessAllowed ? 'block' : 'none';\n",
              "\n",
              "        async function convertToInteractive(key) {\n",
              "          const element = document.querySelector('#df-3ee32b14-2c61-4987-b845-e53ef8db5372');\n",
              "          const dataTable =\n",
              "            await google.colab.kernel.invokeFunction('convertToInteractive',\n",
              "                                                     [key], {});\n",
              "          if (!dataTable) return;\n",
              "\n",
              "          const docLinkHtml = 'Like what you see? Visit the ' +\n",
              "            '<a target=\"_blank\" href=https://colab.research.google.com/notebooks/data_table.ipynb>data table notebook</a>'\n",
              "            + ' to learn more about interactive tables.';\n",
              "          element.innerHTML = '';\n",
              "          dataTable['output_type'] = 'display_data';\n",
              "          await google.colab.output.renderOutput(dataTable, element);\n",
              "          const docLink = document.createElement('div');\n",
              "          docLink.innerHTML = docLinkHtml;\n",
              "          element.appendChild(docLink);\n",
              "        }\n",
              "      </script>\n",
              "    </div>\n",
              "  </div>\n",
              "  "
            ]
          },
          "metadata": {},
          "execution_count": 3
        }
      ]
    },
    {
      "cell_type": "code",
      "source": [
        "df"
      ],
      "metadata": {
        "colab": {
          "base_uri": "https://localhost:8080/",
          "height": 990
        },
        "id": "UYdxaQ68b7vZ",
        "outputId": "b1555600-09f0-4fe1-850c-6807656b6b7a"
      },
      "execution_count": 4,
      "outputs": [
        {
          "output_type": "execute_result",
          "data": {
            "text/plain": [
              "      tanggal               stasiun  pm10  so2  co  o3  no2  max critical  \\\n",
              "0    1/1/2020    DKI1 (Bunderan HI)    30   20  10  32    9   32       O3   \n",
              "1    1/2/2020    DKI1 (Bunderan HI)    27   22  12  29    8   29       O3   \n",
              "2    1/3/2020    DKI1 (Bunderan HI)    39   22  14  32   10   39     PM10   \n",
              "3    1/4/2020    DKI1 (Bunderan HI)    34   22  14  38   10   38       O3   \n",
              "4    1/5/2020    DKI1 (Bunderan HI)    35   22  12  31    9   35     PM10   \n",
              "5    1/6/2020    DKI1 (Bunderan HI)    46   23  16  32    9   46     PM10   \n",
              "6    1/7/2020    DKI1 (Bunderan HI)    37   23  26  33   11   37     PM10   \n",
              "7    1/8/2020    DKI1 (Bunderan HI)    41   26  20  30   11   41     PM10   \n",
              "8    1/9/2020    DKI1 (Bunderan HI)    52   23  29  24   12   52     PM10   \n",
              "9   1/10/2020    DKI1 (Bunderan HI)    24   24  18  25    8   25       O3   \n",
              "10  1/11/2020    DKI1 (Bunderan HI)    34   31  25  23    8   34     PM10   \n",
              "11  1/12/2020    DKI1 (Bunderan HI)    27   23   9  33    4   33       O3   \n",
              "12  1/13/2020    DKI1 (Bunderan HI)    33   26  12  36    8   36       O3   \n",
              "13  1/14/2020    DKI1 (Bunderan HI)    34   28  13  27    7   34     PM10   \n",
              "14  1/15/2020    DKI1 (Bunderan HI)    29   22  13  36    8   36       O3   \n",
              "15  1/16/2020    DKI1 (Bunderan HI)    52   60  19  30    8   60      SO2   \n",
              "16  1/17/2020    DKI1 (Bunderan HI)    51   34  21  74   20   74       O3   \n",
              "17  1/18/2020    DKI1 (Bunderan HI)    37   29  14  31    6   37     PM10   \n",
              "18  1/19/2020    DKI1 (Bunderan HI)    61   34  36  58   15   61     PM10   \n",
              "19  1/20/2020    DKI1 (Bunderan HI)    47   30  15  33    9   47     PM10   \n",
              "20  1/21/2020    DKI1 (Bunderan HI)    30   36  14  26    9   36      SO2   \n",
              "21  1/22/2020    DKI1 (Bunderan HI)    40   36  18  28   15   40     PM10   \n",
              "22  1/29/2020    DKI1 (Bunderan HI)    49   11  23  38   19   49     PM10   \n",
              "23  1/30/2020    DKI1 (Bunderan HI)    38   12  21  35   20   38     PM10   \n",
              "24  1/31/2020    DKI1 (Bunderan HI)    44   10  22  25   16   44     PM10   \n",
              "25   1/1/2020  DKI2 (Kelapa Gading)    31    7   8  41    5   41       O3   \n",
              "26   1/2/2020  DKI2 (Kelapa Gading)    23    7   9  35    6   35       O3   \n",
              "27   1/3/2020  DKI2 (Kelapa Gading)    47    7  16  45    8   47     PM10   \n",
              "28   1/4/2020  DKI2 (Kelapa Gading)    45    7  10  44    8   45     PM10   \n",
              "29   1/5/2020  DKI2 (Kelapa Gading)    41    7  11  44    6   44       O3   \n",
              "\n",
              "   categori  \n",
              "0      BAIK  \n",
              "1      BAIK  \n",
              "2      BAIK  \n",
              "3      BAIK  \n",
              "4      BAIK  \n",
              "5      BAIK  \n",
              "6      BAIK  \n",
              "7      BAIK  \n",
              "8    SEDANG  \n",
              "9      BAIK  \n",
              "10     BAIK  \n",
              "11     BAIK  \n",
              "12     BAIK  \n",
              "13     BAIK  \n",
              "14     BAIK  \n",
              "15   SEDANG  \n",
              "16   SEDANG  \n",
              "17     BAIK  \n",
              "18   SEDANG  \n",
              "19     BAIK  \n",
              "20     BAIK  \n",
              "21     BAIK  \n",
              "22     BAIK  \n",
              "23     BAIK  \n",
              "24     BAIK  \n",
              "25     BAIK  \n",
              "26     BAIK  \n",
              "27     BAIK  \n",
              "28     BAIK  \n",
              "29     BAIK  "
            ],
            "text/html": [
              "\n",
              "  <div id=\"df-054f1c0e-3699-42b6-8c8a-ae1a5f1cc7ce\">\n",
              "    <div class=\"colab-df-container\">\n",
              "      <div>\n",
              "<style scoped>\n",
              "    .dataframe tbody tr th:only-of-type {\n",
              "        vertical-align: middle;\n",
              "    }\n",
              "\n",
              "    .dataframe tbody tr th {\n",
              "        vertical-align: top;\n",
              "    }\n",
              "\n",
              "    .dataframe thead th {\n",
              "        text-align: right;\n",
              "    }\n",
              "</style>\n",
              "<table border=\"1\" class=\"dataframe\">\n",
              "  <thead>\n",
              "    <tr style=\"text-align: right;\">\n",
              "      <th></th>\n",
              "      <th>tanggal</th>\n",
              "      <th>stasiun</th>\n",
              "      <th>pm10</th>\n",
              "      <th>so2</th>\n",
              "      <th>co</th>\n",
              "      <th>o3</th>\n",
              "      <th>no2</th>\n",
              "      <th>max</th>\n",
              "      <th>critical</th>\n",
              "      <th>categori</th>\n",
              "    </tr>\n",
              "  </thead>\n",
              "  <tbody>\n",
              "    <tr>\n",
              "      <th>0</th>\n",
              "      <td>1/1/2020</td>\n",
              "      <td>DKI1 (Bunderan HI)</td>\n",
              "      <td>30</td>\n",
              "      <td>20</td>\n",
              "      <td>10</td>\n",
              "      <td>32</td>\n",
              "      <td>9</td>\n",
              "      <td>32</td>\n",
              "      <td>O3</td>\n",
              "      <td>BAIK</td>\n",
              "    </tr>\n",
              "    <tr>\n",
              "      <th>1</th>\n",
              "      <td>1/2/2020</td>\n",
              "      <td>DKI1 (Bunderan HI)</td>\n",
              "      <td>27</td>\n",
              "      <td>22</td>\n",
              "      <td>12</td>\n",
              "      <td>29</td>\n",
              "      <td>8</td>\n",
              "      <td>29</td>\n",
              "      <td>O3</td>\n",
              "      <td>BAIK</td>\n",
              "    </tr>\n",
              "    <tr>\n",
              "      <th>2</th>\n",
              "      <td>1/3/2020</td>\n",
              "      <td>DKI1 (Bunderan HI)</td>\n",
              "      <td>39</td>\n",
              "      <td>22</td>\n",
              "      <td>14</td>\n",
              "      <td>32</td>\n",
              "      <td>10</td>\n",
              "      <td>39</td>\n",
              "      <td>PM10</td>\n",
              "      <td>BAIK</td>\n",
              "    </tr>\n",
              "    <tr>\n",
              "      <th>3</th>\n",
              "      <td>1/4/2020</td>\n",
              "      <td>DKI1 (Bunderan HI)</td>\n",
              "      <td>34</td>\n",
              "      <td>22</td>\n",
              "      <td>14</td>\n",
              "      <td>38</td>\n",
              "      <td>10</td>\n",
              "      <td>38</td>\n",
              "      <td>O3</td>\n",
              "      <td>BAIK</td>\n",
              "    </tr>\n",
              "    <tr>\n",
              "      <th>4</th>\n",
              "      <td>1/5/2020</td>\n",
              "      <td>DKI1 (Bunderan HI)</td>\n",
              "      <td>35</td>\n",
              "      <td>22</td>\n",
              "      <td>12</td>\n",
              "      <td>31</td>\n",
              "      <td>9</td>\n",
              "      <td>35</td>\n",
              "      <td>PM10</td>\n",
              "      <td>BAIK</td>\n",
              "    </tr>\n",
              "    <tr>\n",
              "      <th>5</th>\n",
              "      <td>1/6/2020</td>\n",
              "      <td>DKI1 (Bunderan HI)</td>\n",
              "      <td>46</td>\n",
              "      <td>23</td>\n",
              "      <td>16</td>\n",
              "      <td>32</td>\n",
              "      <td>9</td>\n",
              "      <td>46</td>\n",
              "      <td>PM10</td>\n",
              "      <td>BAIK</td>\n",
              "    </tr>\n",
              "    <tr>\n",
              "      <th>6</th>\n",
              "      <td>1/7/2020</td>\n",
              "      <td>DKI1 (Bunderan HI)</td>\n",
              "      <td>37</td>\n",
              "      <td>23</td>\n",
              "      <td>26</td>\n",
              "      <td>33</td>\n",
              "      <td>11</td>\n",
              "      <td>37</td>\n",
              "      <td>PM10</td>\n",
              "      <td>BAIK</td>\n",
              "    </tr>\n",
              "    <tr>\n",
              "      <th>7</th>\n",
              "      <td>1/8/2020</td>\n",
              "      <td>DKI1 (Bunderan HI)</td>\n",
              "      <td>41</td>\n",
              "      <td>26</td>\n",
              "      <td>20</td>\n",
              "      <td>30</td>\n",
              "      <td>11</td>\n",
              "      <td>41</td>\n",
              "      <td>PM10</td>\n",
              "      <td>BAIK</td>\n",
              "    </tr>\n",
              "    <tr>\n",
              "      <th>8</th>\n",
              "      <td>1/9/2020</td>\n",
              "      <td>DKI1 (Bunderan HI)</td>\n",
              "      <td>52</td>\n",
              "      <td>23</td>\n",
              "      <td>29</td>\n",
              "      <td>24</td>\n",
              "      <td>12</td>\n",
              "      <td>52</td>\n",
              "      <td>PM10</td>\n",
              "      <td>SEDANG</td>\n",
              "    </tr>\n",
              "    <tr>\n",
              "      <th>9</th>\n",
              "      <td>1/10/2020</td>\n",
              "      <td>DKI1 (Bunderan HI)</td>\n",
              "      <td>24</td>\n",
              "      <td>24</td>\n",
              "      <td>18</td>\n",
              "      <td>25</td>\n",
              "      <td>8</td>\n",
              "      <td>25</td>\n",
              "      <td>O3</td>\n",
              "      <td>BAIK</td>\n",
              "    </tr>\n",
              "    <tr>\n",
              "      <th>10</th>\n",
              "      <td>1/11/2020</td>\n",
              "      <td>DKI1 (Bunderan HI)</td>\n",
              "      <td>34</td>\n",
              "      <td>31</td>\n",
              "      <td>25</td>\n",
              "      <td>23</td>\n",
              "      <td>8</td>\n",
              "      <td>34</td>\n",
              "      <td>PM10</td>\n",
              "      <td>BAIK</td>\n",
              "    </tr>\n",
              "    <tr>\n",
              "      <th>11</th>\n",
              "      <td>1/12/2020</td>\n",
              "      <td>DKI1 (Bunderan HI)</td>\n",
              "      <td>27</td>\n",
              "      <td>23</td>\n",
              "      <td>9</td>\n",
              "      <td>33</td>\n",
              "      <td>4</td>\n",
              "      <td>33</td>\n",
              "      <td>O3</td>\n",
              "      <td>BAIK</td>\n",
              "    </tr>\n",
              "    <tr>\n",
              "      <th>12</th>\n",
              "      <td>1/13/2020</td>\n",
              "      <td>DKI1 (Bunderan HI)</td>\n",
              "      <td>33</td>\n",
              "      <td>26</td>\n",
              "      <td>12</td>\n",
              "      <td>36</td>\n",
              "      <td>8</td>\n",
              "      <td>36</td>\n",
              "      <td>O3</td>\n",
              "      <td>BAIK</td>\n",
              "    </tr>\n",
              "    <tr>\n",
              "      <th>13</th>\n",
              "      <td>1/14/2020</td>\n",
              "      <td>DKI1 (Bunderan HI)</td>\n",
              "      <td>34</td>\n",
              "      <td>28</td>\n",
              "      <td>13</td>\n",
              "      <td>27</td>\n",
              "      <td>7</td>\n",
              "      <td>34</td>\n",
              "      <td>PM10</td>\n",
              "      <td>BAIK</td>\n",
              "    </tr>\n",
              "    <tr>\n",
              "      <th>14</th>\n",
              "      <td>1/15/2020</td>\n",
              "      <td>DKI1 (Bunderan HI)</td>\n",
              "      <td>29</td>\n",
              "      <td>22</td>\n",
              "      <td>13</td>\n",
              "      <td>36</td>\n",
              "      <td>8</td>\n",
              "      <td>36</td>\n",
              "      <td>O3</td>\n",
              "      <td>BAIK</td>\n",
              "    </tr>\n",
              "    <tr>\n",
              "      <th>15</th>\n",
              "      <td>1/16/2020</td>\n",
              "      <td>DKI1 (Bunderan HI)</td>\n",
              "      <td>52</td>\n",
              "      <td>60</td>\n",
              "      <td>19</td>\n",
              "      <td>30</td>\n",
              "      <td>8</td>\n",
              "      <td>60</td>\n",
              "      <td>SO2</td>\n",
              "      <td>SEDANG</td>\n",
              "    </tr>\n",
              "    <tr>\n",
              "      <th>16</th>\n",
              "      <td>1/17/2020</td>\n",
              "      <td>DKI1 (Bunderan HI)</td>\n",
              "      <td>51</td>\n",
              "      <td>34</td>\n",
              "      <td>21</td>\n",
              "      <td>74</td>\n",
              "      <td>20</td>\n",
              "      <td>74</td>\n",
              "      <td>O3</td>\n",
              "      <td>SEDANG</td>\n",
              "    </tr>\n",
              "    <tr>\n",
              "      <th>17</th>\n",
              "      <td>1/18/2020</td>\n",
              "      <td>DKI1 (Bunderan HI)</td>\n",
              "      <td>37</td>\n",
              "      <td>29</td>\n",
              "      <td>14</td>\n",
              "      <td>31</td>\n",
              "      <td>6</td>\n",
              "      <td>37</td>\n",
              "      <td>PM10</td>\n",
              "      <td>BAIK</td>\n",
              "    </tr>\n",
              "    <tr>\n",
              "      <th>18</th>\n",
              "      <td>1/19/2020</td>\n",
              "      <td>DKI1 (Bunderan HI)</td>\n",
              "      <td>61</td>\n",
              "      <td>34</td>\n",
              "      <td>36</td>\n",
              "      <td>58</td>\n",
              "      <td>15</td>\n",
              "      <td>61</td>\n",
              "      <td>PM10</td>\n",
              "      <td>SEDANG</td>\n",
              "    </tr>\n",
              "    <tr>\n",
              "      <th>19</th>\n",
              "      <td>1/20/2020</td>\n",
              "      <td>DKI1 (Bunderan HI)</td>\n",
              "      <td>47</td>\n",
              "      <td>30</td>\n",
              "      <td>15</td>\n",
              "      <td>33</td>\n",
              "      <td>9</td>\n",
              "      <td>47</td>\n",
              "      <td>PM10</td>\n",
              "      <td>BAIK</td>\n",
              "    </tr>\n",
              "    <tr>\n",
              "      <th>20</th>\n",
              "      <td>1/21/2020</td>\n",
              "      <td>DKI1 (Bunderan HI)</td>\n",
              "      <td>30</td>\n",
              "      <td>36</td>\n",
              "      <td>14</td>\n",
              "      <td>26</td>\n",
              "      <td>9</td>\n",
              "      <td>36</td>\n",
              "      <td>SO2</td>\n",
              "      <td>BAIK</td>\n",
              "    </tr>\n",
              "    <tr>\n",
              "      <th>21</th>\n",
              "      <td>1/22/2020</td>\n",
              "      <td>DKI1 (Bunderan HI)</td>\n",
              "      <td>40</td>\n",
              "      <td>36</td>\n",
              "      <td>18</td>\n",
              "      <td>28</td>\n",
              "      <td>15</td>\n",
              "      <td>40</td>\n",
              "      <td>PM10</td>\n",
              "      <td>BAIK</td>\n",
              "    </tr>\n",
              "    <tr>\n",
              "      <th>22</th>\n",
              "      <td>1/29/2020</td>\n",
              "      <td>DKI1 (Bunderan HI)</td>\n",
              "      <td>49</td>\n",
              "      <td>11</td>\n",
              "      <td>23</td>\n",
              "      <td>38</td>\n",
              "      <td>19</td>\n",
              "      <td>49</td>\n",
              "      <td>PM10</td>\n",
              "      <td>BAIK</td>\n",
              "    </tr>\n",
              "    <tr>\n",
              "      <th>23</th>\n",
              "      <td>1/30/2020</td>\n",
              "      <td>DKI1 (Bunderan HI)</td>\n",
              "      <td>38</td>\n",
              "      <td>12</td>\n",
              "      <td>21</td>\n",
              "      <td>35</td>\n",
              "      <td>20</td>\n",
              "      <td>38</td>\n",
              "      <td>PM10</td>\n",
              "      <td>BAIK</td>\n",
              "    </tr>\n",
              "    <tr>\n",
              "      <th>24</th>\n",
              "      <td>1/31/2020</td>\n",
              "      <td>DKI1 (Bunderan HI)</td>\n",
              "      <td>44</td>\n",
              "      <td>10</td>\n",
              "      <td>22</td>\n",
              "      <td>25</td>\n",
              "      <td>16</td>\n",
              "      <td>44</td>\n",
              "      <td>PM10</td>\n",
              "      <td>BAIK</td>\n",
              "    </tr>\n",
              "    <tr>\n",
              "      <th>25</th>\n",
              "      <td>1/1/2020</td>\n",
              "      <td>DKI2 (Kelapa Gading)</td>\n",
              "      <td>31</td>\n",
              "      <td>7</td>\n",
              "      <td>8</td>\n",
              "      <td>41</td>\n",
              "      <td>5</td>\n",
              "      <td>41</td>\n",
              "      <td>O3</td>\n",
              "      <td>BAIK</td>\n",
              "    </tr>\n",
              "    <tr>\n",
              "      <th>26</th>\n",
              "      <td>1/2/2020</td>\n",
              "      <td>DKI2 (Kelapa Gading)</td>\n",
              "      <td>23</td>\n",
              "      <td>7</td>\n",
              "      <td>9</td>\n",
              "      <td>35</td>\n",
              "      <td>6</td>\n",
              "      <td>35</td>\n",
              "      <td>O3</td>\n",
              "      <td>BAIK</td>\n",
              "    </tr>\n",
              "    <tr>\n",
              "      <th>27</th>\n",
              "      <td>1/3/2020</td>\n",
              "      <td>DKI2 (Kelapa Gading)</td>\n",
              "      <td>47</td>\n",
              "      <td>7</td>\n",
              "      <td>16</td>\n",
              "      <td>45</td>\n",
              "      <td>8</td>\n",
              "      <td>47</td>\n",
              "      <td>PM10</td>\n",
              "      <td>BAIK</td>\n",
              "    </tr>\n",
              "    <tr>\n",
              "      <th>28</th>\n",
              "      <td>1/4/2020</td>\n",
              "      <td>DKI2 (Kelapa Gading)</td>\n",
              "      <td>45</td>\n",
              "      <td>7</td>\n",
              "      <td>10</td>\n",
              "      <td>44</td>\n",
              "      <td>8</td>\n",
              "      <td>45</td>\n",
              "      <td>PM10</td>\n",
              "      <td>BAIK</td>\n",
              "    </tr>\n",
              "    <tr>\n",
              "      <th>29</th>\n",
              "      <td>1/5/2020</td>\n",
              "      <td>DKI2 (Kelapa Gading)</td>\n",
              "      <td>41</td>\n",
              "      <td>7</td>\n",
              "      <td>11</td>\n",
              "      <td>44</td>\n",
              "      <td>6</td>\n",
              "      <td>44</td>\n",
              "      <td>O3</td>\n",
              "      <td>BAIK</td>\n",
              "    </tr>\n",
              "  </tbody>\n",
              "</table>\n",
              "</div>\n",
              "      <button class=\"colab-df-convert\" onclick=\"convertToInteractive('df-054f1c0e-3699-42b6-8c8a-ae1a5f1cc7ce')\"\n",
              "              title=\"Convert this dataframe to an interactive table.\"\n",
              "              style=\"display:none;\">\n",
              "        \n",
              "  <svg xmlns=\"http://www.w3.org/2000/svg\" height=\"24px\"viewBox=\"0 0 24 24\"\n",
              "       width=\"24px\">\n",
              "    <path d=\"M0 0h24v24H0V0z\" fill=\"none\"/>\n",
              "    <path d=\"M18.56 5.44l.94 2.06.94-2.06 2.06-.94-2.06-.94-.94-2.06-.94 2.06-2.06.94zm-11 1L8.5 8.5l.94-2.06 2.06-.94-2.06-.94L8.5 2.5l-.94 2.06-2.06.94zm10 10l.94 2.06.94-2.06 2.06-.94-2.06-.94-.94-2.06-.94 2.06-2.06.94z\"/><path d=\"M17.41 7.96l-1.37-1.37c-.4-.4-.92-.59-1.43-.59-.52 0-1.04.2-1.43.59L10.3 9.45l-7.72 7.72c-.78.78-.78 2.05 0 2.83L4 21.41c.39.39.9.59 1.41.59.51 0 1.02-.2 1.41-.59l7.78-7.78 2.81-2.81c.8-.78.8-2.07 0-2.86zM5.41 20L4 18.59l7.72-7.72 1.47 1.35L5.41 20z\"/>\n",
              "  </svg>\n",
              "      </button>\n",
              "      \n",
              "  <style>\n",
              "    .colab-df-container {\n",
              "      display:flex;\n",
              "      flex-wrap:wrap;\n",
              "      gap: 12px;\n",
              "    }\n",
              "\n",
              "    .colab-df-convert {\n",
              "      background-color: #E8F0FE;\n",
              "      border: none;\n",
              "      border-radius: 50%;\n",
              "      cursor: pointer;\n",
              "      display: none;\n",
              "      fill: #1967D2;\n",
              "      height: 32px;\n",
              "      padding: 0 0 0 0;\n",
              "      width: 32px;\n",
              "    }\n",
              "\n",
              "    .colab-df-convert:hover {\n",
              "      background-color: #E2EBFA;\n",
              "      box-shadow: 0px 1px 2px rgba(60, 64, 67, 0.3), 0px 1px 3px 1px rgba(60, 64, 67, 0.15);\n",
              "      fill: #174EA6;\n",
              "    }\n",
              "\n",
              "    [theme=dark] .colab-df-convert {\n",
              "      background-color: #3B4455;\n",
              "      fill: #D2E3FC;\n",
              "    }\n",
              "\n",
              "    [theme=dark] .colab-df-convert:hover {\n",
              "      background-color: #434B5C;\n",
              "      box-shadow: 0px 1px 3px 1px rgba(0, 0, 0, 0.15);\n",
              "      filter: drop-shadow(0px 1px 2px rgba(0, 0, 0, 0.3));\n",
              "      fill: #FFFFFF;\n",
              "    }\n",
              "  </style>\n",
              "\n",
              "      <script>\n",
              "        const buttonEl =\n",
              "          document.querySelector('#df-054f1c0e-3699-42b6-8c8a-ae1a5f1cc7ce button.colab-df-convert');\n",
              "        buttonEl.style.display =\n",
              "          google.colab.kernel.accessAllowed ? 'block' : 'none';\n",
              "\n",
              "        async function convertToInteractive(key) {\n",
              "          const element = document.querySelector('#df-054f1c0e-3699-42b6-8c8a-ae1a5f1cc7ce');\n",
              "          const dataTable =\n",
              "            await google.colab.kernel.invokeFunction('convertToInteractive',\n",
              "                                                     [key], {});\n",
              "          if (!dataTable) return;\n",
              "\n",
              "          const docLinkHtml = 'Like what you see? Visit the ' +\n",
              "            '<a target=\"_blank\" href=https://colab.research.google.com/notebooks/data_table.ipynb>data table notebook</a>'\n",
              "            + ' to learn more about interactive tables.';\n",
              "          element.innerHTML = '';\n",
              "          dataTable['output_type'] = 'display_data';\n",
              "          await google.colab.output.renderOutput(dataTable, element);\n",
              "          const docLink = document.createElement('div');\n",
              "          docLink.innerHTML = docLinkHtml;\n",
              "          element.appendChild(docLink);\n",
              "        }\n",
              "      </script>\n",
              "    </div>\n",
              "  </div>\n",
              "  "
            ]
          },
          "metadata": {},
          "execution_count": 4
        }
      ]
    },
    {
      "cell_type": "code",
      "source": [
        "df.isnull().sum()"
      ],
      "metadata": {
        "colab": {
          "base_uri": "https://localhost:8080/"
        },
        "id": "f0cqkhKIb8BD",
        "outputId": "7493eb74-45fb-4444-84cb-594f1fcedc74"
      },
      "execution_count": 5,
      "outputs": [
        {
          "output_type": "execute_result",
          "data": {
            "text/plain": [
              "tanggal     0\n",
              "stasiun     0\n",
              "pm10        0\n",
              "so2         0\n",
              "co          0\n",
              "o3          0\n",
              "no2         0\n",
              "max         0\n",
              "critical    0\n",
              "categori    0\n",
              "dtype: int64"
            ]
          },
          "metadata": {},
          "execution_count": 5
        }
      ]
    },
    {
      "cell_type": "code",
      "source": [
        "df.plot(kind='scatter', x='pm10', y='max') #UNTUK MEMANGGI VARIABEL\n",
        "\n",
        "plt.title('Omzet toko bunga')\n",
        "plt.xlabel('volume')\n",
        "plt.ylabel('omzet')\n",
        "plt.xlim(0, 65)\n",
        "plt.ylim(0, 65)\n",
        "plt.grid(True)\n",
        "plt.show()"
      ],
      "metadata": {
        "colab": {
          "base_uri": "https://localhost:8080/",
          "height": 295
        },
        "id": "xvHs48jJcPzD",
        "outputId": "85ac3f01-ae19-42ad-9866-05e19749efae"
      },
      "execution_count": 7,
      "outputs": [
        {
          "output_type": "display_data",
          "data": {
            "text/plain": [
              "<Figure size 432x288 with 1 Axes>"
            ],
            "image/png": "[encoded data removed]"
          },
          "metadata": {
            "needs_background": "light"
          }
        }
      ]
    },
    {
      "cell_type": "code",
      "source": [
        "import numpy as np\n",
        "\n",
        "x = np.array(df['pm10'])\n",
        "y = np.array(df['max'])\n",
        "\n",
        "print(f'x : {x}')\n",
        "print(f'y : {y}') "
      ],
      "metadata": {
        "colab": {
          "base_uri": "https://localhost:8080/"
        },
        "id": "kBP4nIKjcA1h",
        "outputId": "b74f71b0-5658-451d-8508-abe2b74e610b"
      },
      "execution_count": 8,
      "outputs": [
        {
          "output_type": "stream",
          "name": "stdout",
          "text": [
            "x : [30 27 39 34 35 46 37 41 52 24 34 27 33 34 29 52 51 37 61 47 30 40 49 38\n",
            " 44 31 23 47 45 41]\n",
            "y : [32 29 39 38 35 46 37 41 52 25 34 33 36 34 36 60 74 37 61 47 36 40 49 38\n",
            " 44 41 35 47 45 44]\n"
          ]
        }
      ]
    },
    {
      "cell_type": "code",
      "source": [
        "x"
      ],
      "metadata": {
        "colab": {
          "base_uri": "https://localhost:8080/"
        },
        "id": "hqkDjov1cFmZ",
        "outputId": "8910492e-7db5-4da2-a53f-8d89994d00f7"
      },
      "execution_count": 9,
      "outputs": [
        {
          "output_type": "execute_result",
          "data": {
            "text/plain": [
              "array([30, 27, 39, 34, 35, 46, 37, 41, 52, 24, 34, 27, 33, 34, 29, 52, 51,\n",
              "       37, 61, 47, 30, 40, 49, 38, 44, 31, 23, 47, 45, 41])"
            ]
          },
          "metadata": {},
          "execution_count": 9
        }
      ]
    },
    {
      "cell_type": "code",
      "source": [
        "x = x.reshape(-1, 1) \n",
        "x.shape"
      ],
      "metadata": {
        "colab": {
          "base_uri": "https://localhost:8080/"
        },
        "id": "fzU1BJQscMEK",
        "outputId": "cb2d3ae2-da6a-4614-b330-086046dd034d"
      },
      "execution_count": 10,
      "outputs": [
        {
          "output_type": "execute_result",
          "data": {
            "text/plain": [
              "(30, 1)"
            ]
          },
          "metadata": {},
          "execution_count": 10
        }
      ]
    },
    {
      "cell_type": "code",
      "source": [
        "from sklearn.linear_model import LinearRegression #MEMANGGIL MODEL REGRESSI LINEAR\n",
        "\n",
        "model = LinearRegression() # VARIABLE MODEL BIOSA DI GANTI\n",
        "model.fit(x, y)"
      ],
      "metadata": {
        "colab": {
          "base_uri": "https://localhost:8080/"
        },
        "id": "pxPIzz8lcUUM",
        "outputId": "73188022-6567-4f26-f0a6-718fb10684f0"
      },
      "execution_count": 11,
      "outputs": [
        {
          "output_type": "execute_result",
          "data": {
            "text/plain": [
              "LinearRegression()"
            ]
          },
          "metadata": {},
          "execution_count": 11
        }
      ]
    },
    {
      "cell_type": "code",
      "source": [
        "x_vis = np.array([0, 95]).reshape(-1, 1) # pembuatan garis merah dari x\n",
        "y_vis = model.predict(x_vis) # model machine learning"
      ],
      "metadata": {
        "id": "ydbnc04-cjm1"
      },
      "execution_count": 12,
      "outputs": []
    },
    {
      "cell_type": "code",
      "source": [
        "plt.scatter(x, y)\n",
        "plt.plot(x_vis, y_vis, '-r')\n",
        "plt.title('indeks kesejahteraan warga')\n",
        "plt.xlabel('Jumlah penduduk')\n",
        "plt.ylabel('Indexs')\n",
        "plt.xlim(0), 65)\n",
        "plt.ylim(0, 65)\n",
        "plt.grid(True)\n",
        "plt.show()"
      ],
      "metadata": {
        "colab": {
          "base_uri": "https://localhost:8080/",
          "height": 295
        },
        "id": "RcQ0XnBRcmKv",
        "outputId": "ca3c01c1-74f4-4c5c-a594-f6e6b66b791a"
      },
      "execution_count": 14,
      "outputs": [
        {
          "output_type": "display_data",
          "data": {
            "text/plain": [
              "<Figure size 432x288 with 1 Axes>"
            ],
            "image/png": "[encoded data removed]"
          },
          "metadata": {
            "needs_background": "light"
          }
        }
      ]
    },
    {
      "cell_type": "code",
      "source": [
        "print(f'intercept : {model.intercept_}') \n",
        "print(f'slope : {model.coef_}')"
      ],
      "metadata": {
        "id": "l05X-f1vcoxu",
        "colab": {
          "base_uri": "https://localhost:8080/"
        },
        "outputId": "a2fcd2a8-bc5c-41b0-a89b-3373afef53e3"
      },
      "execution_count": 15,
      "outputs": [
        {
          "output_type": "stream",
          "name": "stdout",
          "text": [
            "intercept : 5.061672967863878\n",
            "slope : [0.94399811]\n"
          ]
        }
      ]
    },
    {
      "cell_type": "code",
      "source": [
        "Jml_pm10 = np.array([21, 23, 24, 26]).reshape(-1, 1)\n",
        "Jml_pm10"
      ],
      "metadata": {
        "colab": {
          "base_uri": "https://localhost:8080/"
        },
        "id": "1iJMCzfo8Fnt",
        "outputId": "4f2292f9-facf-4d86-e7b5-b721c1244308"
      },
      "execution_count": 17,
      "outputs": [
        {
          "output_type": "execute_result",
          "data": {
            "text/plain": [
              "array([[21],\n",
              "       [23],\n",
              "       [24],\n",
              "       [26]])"
            ]
          },
          "metadata": {},
          "execution_count": 17
        }
      ]
    },
    {
      "cell_type": "code",
      "source": [
        "prediksi_lampu = model.predict(Jml_tiang)\n",
        "prediksi_lampu"
      ],
      "metadata": {
        "colab": {
          "base_uri": "https://localhost:8080/"
        },
        "id": "sF2gwUf18INe",
        "outputId": "cbe1e252-cc0c-43cd-c6bd-5347e48bbd93"
      },
      "execution_count": 54,
      "outputs": [
        {
          "output_type": "execute_result",
          "data": {
            "text/plain": [
              "array([24.88563327, 26.77362949, 27.7176276 , 29.60562382])"
            ]
          },
          "metadata": {},
          "execution_count": 54
        }
      ]
    },
    {
      "cell_type": "code",
      "source": [
        "for tiang, lampu in zip(Jml_tiang, prediksi_lampu):\n",
        "  print(f'prediksi_tiang : {tiang} perediksi_lampu : {lampu}')"
      ],
      "metadata": {
        "colab": {
          "base_uri": "https://localhost:8080/"
        },
        "id": "yUPrUouV8WU_",
        "outputId": "16014e9b-8a64-4e41-80bb-4149ffe67f96"
      },
      "execution_count": 55,
      "outputs": [
        {
          "output_type": "stream",
          "name": "stdout",
          "text": [
            "prediksi_tiang : [21] perediksi_lampu : 24.885633270321353\n",
            "prediksi_tiang : [23] perediksi_lampu : 26.773629489603017\n",
            "prediksi_tiang : [24] perediksi_lampu : 27.71762759924385\n",
            "prediksi_tiang : [26] perediksi_lampu : 29.605623818525515\n"
          ]
        }
      ]
    },
    {
      "cell_type": "code",
      "source": [
        "df['pm10'].sum()"
      ],
      "metadata": {
        "colab": {
          "base_uri": "https://localhost:8080/"
        },
        "id": "cWgO59Dh_yzu",
        "outputId": "1e915244-044c-43c0-985d-ef0737b2b0d2"
      },
      "execution_count": 59,
      "outputs": [
        {
          "output_type": "execute_result",
          "data": {
            "text/plain": [
              "1158"
            ]
          },
          "metadata": {},
          "execution_count": 59
        }
      ]
    },
    {
      "cell_type": "code",
      "source": [
        "df['max'].sum()"
      ],
      "metadata": {
        "colab": {
          "base_uri": "https://localhost:8080/"
        },
        "id": "JMsRzcPLAH6g",
        "outputId": "989e96fe-a6e9-46d8-95b9-6718402c661b"
      },
      "execution_count": 61,
      "outputs": [
        {
          "output_type": "execute_result",
          "data": {
            "text/plain": [
              "1245"
            ]
          },
          "metadata": {},
          "execution_count": 61
        }
      ]
    },
    {
      "cell_type": "code",
      "source": [
        "#Grafik bar\n",
        "fig = plt.figure()\n",
        "ax = fig.add_axes([0,0,1,1])\n",
        "jml = (\"pm10\", \"max\")\n",
        "banyak = (1158, 1245)\n",
        "plt.title(\"Kapasitas\")\n",
        "plt.bar(jml, banyak)\n",
        "plt.show()\n",
        "print(\"\")"
      ],
      "metadata": {
        "colab": {
          "base_uri": "https://localhost:8080/",
          "height": 370
        },
        "id": "oa996J9M_Onx",
        "outputId": "86aaa271-5170-4cfa-ada3-9b3494d45b77"
      },
      "execution_count": 63,
      "outputs": [
        {
          "output_type": "display_data",
          "data": {
            "text/plain": [
              "<Figure size 432x288 with 1 Axes>"
            ],
            "image/png": "[encoded data removed]"
          },
          "metadata": {
            "needs_background": "light"
          }
        },
        {
          "output_type": "stream",
          "name": "stdout",
          "text": [
            "\n"
          ]
        }
      ]
    },
    {
      "cell_type": "code",
      "source": [
        "#pie chart\n",
        "fig = plt.figure()\n",
        "ax = fig.add_axes([0,0,1,1])\n",
        "ax.axis ('equal')\n",
        "plt.title(\"prediksi max\")\n",
        "nama = (\"pm10\", \"max\")\n",
        "banyak = (1158, 1245)\n",
        "ax.pie(banyak,labels=nama,autopct='%1.2f%%')\n",
        "plt.show()\n",
        "print('')"
      ],
      "metadata": {
        "colab": {
          "base_uri": "https://localhost:8080/",
          "height": 353
        },
        "id": "Vi4S4hbhAdWT",
        "outputId": "d2ad14d9-ca1b-4070-ccb2-89c23a086ae8"
      },
      "execution_count": 64,
      "outputs": [
        {
          "output_type": "display_data",
          "data": {
            "text/plain": [
              "<Figure size 432x288 with 1 Axes>"
            ],
            "image/png": "[encoded data removed]"
          },
          "metadata": {}
        },
        {
          "output_type": "stream",
          "name": "stdout",
          "text": [
            "\n"
          ]
        }
      ]
    }
  ]
}