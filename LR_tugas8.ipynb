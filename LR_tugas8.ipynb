{
  "nbformat": 4,
  "nbformat_minor": 0,
  "metadata": {
    "colab": {
      "provenance": []
    },
    "kernelspec": {
      "name": "python3",
      "display_name": "Python 3"
    },
    "language_info": {
      "name": "python"
    }
  },
  "cells": [
    {
      "cell_type": "code",
      "execution_count": 1,
      "metadata": {
        "colab": {
          "base_uri": "https://localhost:8080/"
        },
        "id": "Ed4EzprwH5Tw",
        "outputId": "49f64cfa-5e9b-41e0-bdd7-202dd00cce05"
      },
      "outputs": [
        {
          "output_type": "stream",
          "name": "stdout",
          "text": [
            "Drive already mounted at /content/drive; to attempt to forcibly remount, call drive.mount(\"/content/drive\", force_remount=True).\n"
          ]
        }
      ],
      "source": [
        "from google.colab import drive #memanggil package import drive\n",
        "drive.mount('/content/drive')"
      ]
    },
    {
      "cell_type": "code",
      "source": [
        "import matplotlib.pyplot as plt"
      ],
      "metadata": {
        "id": "VUoeV5IcIC-k"
      },
      "execution_count": 2,
      "outputs": []
    },
    {
      "cell_type": "code",
      "source": [
        "import pandas as pd #MANIPULASI DATA\n",
        "\n",
        "path = '/content/drive/MyDrive/CSV/data8 - Sheet2.csv' # PATH ATAU PEMANGGILAN\n",
        "\n",
        "df = pd.read_csv(path)#DF : DATAFRAME\n",
        "\n",
        "df.describe()"
      ],
      "metadata": {
        "colab": {
          "base_uri": "https://localhost:8080/",
          "height": 300
        },
        "id": "uxNQyQlAIOjo",
        "outputId": "e6435b48-3135-4420-fcdd-2dae3b1f19d1"
      },
      "execution_count": 3,
      "outputs": [
        {
          "output_type": "execute_result",
          "data": {
            "text/plain": [
              "            pm10         co         o3        no2        max\n",
              "count  25.000000  25.000000  25.000000  25.000000  25.000000\n",
              "mean   45.960000  16.640000  41.600000   8.080000  48.120000\n",
              "std    14.449567   9.268585  15.036068   2.080064  15.100552\n",
              "min    23.000000   7.000000  25.000000   5.000000  30.000000\n",
              "25%    34.000000  11.000000  35.000000   7.000000  37.000000\n",
              "50%    44.000000  15.000000  39.000000   8.000000  44.000000\n",
              "75%    53.000000  20.000000  44.000000   9.000000  53.000000\n",
              "max    86.000000  50.000000  92.000000  15.000000  92.000000"
            ],
            "text/html": [
              "\n",
              "  <div id=\"df-1210f3c6-f034-4102-ae07-6e82b694ab62\">\n",
              "    <div class=\"colab-df-container\">\n",
              "      <div>\n",
              "<style scoped>\n",
              "    .dataframe tbody tr th:only-of-type {\n",
              "        vertical-align: middle;\n",
              "    }\n",
              "\n",
              "    .dataframe tbody tr th {\n",
              "        vertical-align: top;\n",
              "    }\n",
              "\n",
              "    .dataframe thead th {\n",
              "        text-align: right;\n",
              "    }\n",
              "</style>\n",
              "<table border=\"1\" class=\"dataframe\">\n",
              "  <thead>\n",
              "    <tr style=\"text-align: right;\">\n",
              "      <th></th>\n",
              "      <th>pm10</th>\n",
              "      <th>co</th>\n",
              "      <th>o3</th>\n",
              "      <th>no2</th>\n",
              "      <th>max</th>\n",
              "    </tr>\n",
              "  </thead>\n",
              "  <tbody>\n",
              "    <tr>\n",
              "      <th>count</th>\n",
              "      <td>25.000000</td>\n",
              "      <td>25.000000</td>\n",
              "      <td>25.000000</td>\n",
              "      <td>25.000000</td>\n",
              "      <td>25.000000</td>\n",
              "    </tr>\n",
              "    <tr>\n",
              "      <th>mean</th>\n",
              "      <td>45.960000</td>\n",
              "      <td>16.640000</td>\n",
              "      <td>41.600000</td>\n",
              "      <td>8.080000</td>\n",
              "      <td>48.120000</td>\n",
              "    </tr>\n",
              "    <tr>\n",
              "      <th>std</th>\n",
              "      <td>14.449567</td>\n",
              "      <td>9.268585</td>\n",
              "      <td>15.036068</td>\n",
              "      <td>2.080064</td>\n",
              "      <td>15.100552</td>\n",
              "    </tr>\n",
              "    <tr>\n",
              "      <th>min</th>\n",
              "      <td>23.000000</td>\n",
              "      <td>7.000000</td>\n",
              "      <td>25.000000</td>\n",
              "      <td>5.000000</td>\n",
              "      <td>30.000000</td>\n",
              "    </tr>\n",
              "    <tr>\n",
              "      <th>25%</th>\n",
              "      <td>34.000000</td>\n",
              "      <td>11.000000</td>\n",
              "      <td>35.000000</td>\n",
              "      <td>7.000000</td>\n",
              "      <td>37.000000</td>\n",
              "    </tr>\n",
              "    <tr>\n",
              "      <th>50%</th>\n",
              "      <td>44.000000</td>\n",
              "      <td>15.000000</td>\n",
              "      <td>39.000000</td>\n",
              "      <td>8.000000</td>\n",
              "      <td>44.000000</td>\n",
              "    </tr>\n",
              "    <tr>\n",
              "      <th>75%</th>\n",
              "      <td>53.000000</td>\n",
              "      <td>20.000000</td>\n",
              "      <td>44.000000</td>\n",
              "      <td>9.000000</td>\n",
              "      <td>53.000000</td>\n",
              "    </tr>\n",
              "    <tr>\n",
              "      <th>max</th>\n",
              "      <td>86.000000</td>\n",
              "      <td>50.000000</td>\n",
              "      <td>92.000000</td>\n",
              "      <td>15.000000</td>\n",
              "      <td>92.000000</td>\n",
              "    </tr>\n",
              "  </tbody>\n",
              "</table>\n",
              "</div>\n",
              "      <button class=\"colab-df-convert\" onclick=\"convertToInteractive('df-1210f3c6-f034-4102-ae07-6e82b694ab62')\"\n",
              "              title=\"Convert this dataframe to an interactive table.\"\n",
              "              style=\"display:none;\">\n",
              "        \n",
              "  <svg xmlns=\"http://www.w3.org/2000/svg\" height=\"24px\"viewBox=\"0 0 24 24\"\n",
              "       width=\"24px\">\n",
              "    <path d=\"M0 0h24v24H0V0z\" fill=\"none\"/>\n",
              "    <path d=\"M18.56 5.44l.94 2.06.94-2.06 2.06-.94-2.06-.94-.94-2.06-.94 2.06-2.06.94zm-11 1L8.5 8.5l.94-2.06 2.06-.94-2.06-.94L8.5 2.5l-.94 2.06-2.06.94zm10 10l.94 2.06.94-2.06 2.06-.94-2.06-.94-.94-2.06-.94 2.06-2.06.94z\"/><path d=\"M17.41 7.96l-1.37-1.37c-.4-.4-.92-.59-1.43-.59-.52 0-1.04.2-1.43.59L10.3 9.45l-7.72 7.72c-.78.78-.78 2.05 0 2.83L4 21.41c.39.39.9.59 1.41.59.51 0 1.02-.2 1.41-.59l7.78-7.78 2.81-2.81c.8-.78.8-2.07 0-2.86zM5.41 20L4 18.59l7.72-7.72 1.47 1.35L5.41 20z\"/>\n",
              "  </svg>\n",
              "      </button>\n",
              "      \n",
              "  <style>\n",
              "    .colab-df-container {\n",
              "      display:flex;\n",
              "      flex-wrap:wrap;\n",
              "      gap: 12px;\n",
              "    }\n",
              "\n",
              "    .colab-df-convert {\n",
              "      background-color: #E8F0FE;\n",
              "      border: none;\n",
              "      border-radius: 50%;\n",
              "      cursor: pointer;\n",
              "      display: none;\n",
              "      fill: #1967D2;\n",
              "      height: 32px;\n",
              "      padding: 0 0 0 0;\n",
              "      width: 32px;\n",
              "    }\n",
              "\n",
              "    .colab-df-convert:hover {\n",
              "      background-color: #E2EBFA;\n",
              "      box-shadow: 0px 1px 2px rgba(60, 64, 67, 0.3), 0px 1px 3px 1px rgba(60, 64, 67, 0.15);\n",
              "      fill: #174EA6;\n",
              "    }\n",
              "\n",
              "    [theme=dark] .colab-df-convert {\n",
              "      background-color: #3B4455;\n",
              "      fill: #D2E3FC;\n",
              "    }\n",
              "\n",
              "    [theme=dark] .colab-df-convert:hover {\n",
              "      background-color: #434B5C;\n",
              "      box-shadow: 0px 1px 3px 1px rgba(0, 0, 0, 0.15);\n",
              "      filter: drop-shadow(0px 1px 2px rgba(0, 0, 0, 0.3));\n",
              "      fill: #FFFFFF;\n",
              "    }\n",
              "  </style>\n",
              "\n",
              "      <script>\n",
              "        const buttonEl =\n",
              "          document.querySelector('#df-1210f3c6-f034-4102-ae07-6e82b694ab62 button.colab-df-convert');\n",
              "        buttonEl.style.display =\n",
              "          google.colab.kernel.accessAllowed ? 'block' : 'none';\n",
              "\n",
              "        async function convertToInteractive(key) {\n",
              "          const element = document.querySelector('#df-1210f3c6-f034-4102-ae07-6e82b694ab62');\n",
              "          const dataTable =\n",
              "            await google.colab.kernel.invokeFunction('convertToInteractive',\n",
              "                                                     [key], {});\n",
              "          if (!dataTable) return;\n",
              "\n",
              "          const docLinkHtml = 'Like what you see? Visit the ' +\n",
              "            '<a target=\"_blank\" href=https://colab.research.google.com/notebooks/data_table.ipynb>data table notebook</a>'\n",
              "            + ' to learn more about interactive tables.';\n",
              "          element.innerHTML = '';\n",
              "          dataTable['output_type'] = 'display_data';\n",
              "          await google.colab.output.renderOutput(dataTable, element);\n",
              "          const docLink = document.createElement('div');\n",
              "          docLink.innerHTML = docLinkHtml;\n",
              "          element.appendChild(docLink);\n",
              "        }\n",
              "      </script>\n",
              "    </div>\n",
              "  </div>\n",
              "  "
            ]
          },
          "metadata": {},
          "execution_count": 3
        }
      ]
    },
    {
      "cell_type": "code",
      "source": [
        "df"
      ],
      "metadata": {
        "colab": {
          "base_uri": "https://localhost:8080/",
          "height": 833
        },
        "id": "lUDPBBTaIYT5",
        "outputId": "e8ed5665-8297-4efe-fd55-98ad257ac4ef"
      },
      "execution_count": 4,
      "outputs": [
        {
          "output_type": "execute_result",
          "data": {
            "text/plain": [
              "      tanggal               stasiun  pm10  co  o3  no2  max critical categori\n",
              "0    1/1/2020  DKI2 (Kelapa Gading)    31   8  41    5   41       O3     BAIK\n",
              "1    1/2/2020  DKI2 (Kelapa Gading)    23   9  35    6   35       O3     BAIK\n",
              "2    1/3/2020  DKI2 (Kelapa Gading)    47  16  45    8   47     PM10     BAIK\n",
              "3    1/4/2020  DKI2 (Kelapa Gading)    45  10  44    8   45     PM10     BAIK\n",
              "4    1/5/2020  DKI2 (Kelapa Gading)    41  11  44    6   44       O3     BAIK\n",
              "5    1/6/2020  DKI2 (Kelapa Gading)    54  16  41    8   54     PM10   SEDANG\n",
              "6    1/7/2020  DKI2 (Kelapa Gading)    46  30  45    8   46     PM10     BAIK\n",
              "7    1/8/2020  DKI2 (Kelapa Gading)    51  17  48    8   51     PM10   SEDANG\n",
              "8    1/9/2020  DKI2 (Kelapa Gading)    64  24  45   10   64     PM10   SEDANG\n",
              "9   1/10/2020  DKI2 (Kelapa Gading)    43  19  32    9   43     PM10     BAIK\n",
              "10  1/11/2020  DKI2 (Kelapa Gading)    44  20  35    9   44     PM10     BAIK\n",
              "11  1/12/2020  DKI2 (Kelapa Gading)    34  11  34    5   34     PM10     BAIK\n",
              "12  1/13/2020  DKI2 (Kelapa Gading)    37   9  35    7   37     PM10     BAIK\n",
              "13  1/14/2020  DKI2 (Kelapa Gading)    32   7  35    9   35       O3     BAIK\n",
              "14  1/15/2020  DKI2 (Kelapa Gading)    33  11  37    9   37       O3     BAIK\n",
              "15  1/16/2020  DKI2 (Kelapa Gading)    51  16  39   10   51     PM10   SEDANG\n",
              "16  1/17/2020  DKI2 (Kelapa Gading)    86  26  81   11   86     PM10   SEDANG\n",
              "17  1/18/2020  DKI2 (Kelapa Gading)    41  10  44    7   44       O3     BAIK\n",
              "18  1/19/2020  DKI2 (Kelapa Gading)    73  50  92   15   92       O3   SEDANG\n",
              "19  1/20/2020  DKI2 (Kelapa Gading)    53  13  35    6   53     PM10   SEDANG\n",
              "20  1/21/2020  DKI2 (Kelapa Gading)    34  11  30    8   34     PM10     BAIK\n",
              "21  1/22/2020  DKI2 (Kelapa Gading)    62  15  44    7   62     PM10   SEDANG\n",
              "22  1/23/2020  DKI2 (Kelapa Gading)    39  12  26    8   39     PM10     BAIK\n",
              "23  1/24/2020  DKI2 (Kelapa Gading)    55  21  25    7   55     PM10   SEDANG\n",
              "24  1/25/2020  DKI2 (Kelapa Gading)    30  24  28    8   30     PM10     BAIK"
            ],
            "text/html": [
              "\n",
              "  <div id=\"df-5616731c-459a-4b1f-a32c-5bc30e6a52e4\">\n",
              "    <div class=\"colab-df-container\">\n",
              "      <div>\n",
              "<style scoped>\n",
              "    .dataframe tbody tr th:only-of-type {\n",
              "        vertical-align: middle;\n",
              "    }\n",
              "\n",
              "    .dataframe tbody tr th {\n",
              "        vertical-align: top;\n",
              "    }\n",
              "\n",
              "    .dataframe thead th {\n",
              "        text-align: right;\n",
              "    }\n",
              "</style>\n",
              "<table border=\"1\" class=\"dataframe\">\n",
              "  <thead>\n",
              "    <tr style=\"text-align: right;\">\n",
              "      <th></th>\n",
              "      <th>tanggal</th>\n",
              "      <th>stasiun</th>\n",
              "      <th>pm10</th>\n",
              "      <th>co</th>\n",
              "      <th>o3</th>\n",
              "      <th>no2</th>\n",
              "      <th>max</th>\n",
              "      <th>critical</th>\n",
              "      <th>categori</th>\n",
              "    </tr>\n",
              "  </thead>\n",
              "  <tbody>\n",
              "    <tr>\n",
              "      <th>0</th>\n",
              "      <td>1/1/2020</td>\n",
              "      <td>DKI2 (Kelapa Gading)</td>\n",
              "      <td>31</td>\n",
              "      <td>8</td>\n",
              "      <td>41</td>\n",
              "      <td>5</td>\n",
              "      <td>41</td>\n",
              "      <td>O3</td>\n",
              "      <td>BAIK</td>\n",
              "    </tr>\n",
              "    <tr>\n",
              "      <th>1</th>\n",
              "      <td>1/2/2020</td>\n",
              "      <td>DKI2 (Kelapa Gading)</td>\n",
              "      <td>23</td>\n",
              "      <td>9</td>\n",
              "      <td>35</td>\n",
              "      <td>6</td>\n",
              "      <td>35</td>\n",
              "      <td>O3</td>\n",
              "      <td>BAIK</td>\n",
              "    </tr>\n",
              "    <tr>\n",
              "      <th>2</th>\n",
              "      <td>1/3/2020</td>\n",
              "      <td>DKI2 (Kelapa Gading)</td>\n",
              "      <td>47</td>\n",
              "      <td>16</td>\n",
              "      <td>45</td>\n",
              "      <td>8</td>\n",
              "      <td>47</td>\n",
              "      <td>PM10</td>\n",
              "      <td>BAIK</td>\n",
              "    </tr>\n",
              "    <tr>\n",
              "      <th>3</th>\n",
              "      <td>1/4/2020</td>\n",
              "      <td>DKI2 (Kelapa Gading)</td>\n",
              "      <td>45</td>\n",
              "      <td>10</td>\n",
              "      <td>44</td>\n",
              "      <td>8</td>\n",
              "      <td>45</td>\n",
              "      <td>PM10</td>\n",
              "      <td>BAIK</td>\n",
              "    </tr>\n",
              "    <tr>\n",
              "      <th>4</th>\n",
              "      <td>1/5/2020</td>\n",
              "      <td>DKI2 (Kelapa Gading)</td>\n",
              "      <td>41</td>\n",
              "      <td>11</td>\n",
              "      <td>44</td>\n",
              "      <td>6</td>\n",
              "      <td>44</td>\n",
              "      <td>O3</td>\n",
              "      <td>BAIK</td>\n",
              "    </tr>\n",
              "    <tr>\n",
              "      <th>5</th>\n",
              "      <td>1/6/2020</td>\n",
              "      <td>DKI2 (Kelapa Gading)</td>\n",
              "      <td>54</td>\n",
              "      <td>16</td>\n",
              "      <td>41</td>\n",
              "      <td>8</td>\n",
              "      <td>54</td>\n",
              "      <td>PM10</td>\n",
              "      <td>SEDANG</td>\n",
              "    </tr>\n",
              "    <tr>\n",
              "      <th>6</th>\n",
              "      <td>1/7/2020</td>\n",
              "      <td>DKI2 (Kelapa Gading)</td>\n",
              "      <td>46</td>\n",
              "      <td>30</td>\n",
              "      <td>45</td>\n",
              "      <td>8</td>\n",
              "      <td>46</td>\n",
              "      <td>PM10</td>\n",
              "      <td>BAIK</td>\n",
              "    </tr>\n",
              "    <tr>\n",
              "      <th>7</th>\n",
              "      <td>1/8/2020</td>\n",
              "      <td>DKI2 (Kelapa Gading)</td>\n",
              "      <td>51</td>\n",
              "      <td>17</td>\n",
              "      <td>48</td>\n",
              "      <td>8</td>\n",
              "      <td>51</td>\n",
              "      <td>PM10</td>\n",
              "      <td>SEDANG</td>\n",
              "    </tr>\n",
              "    <tr>\n",
              "      <th>8</th>\n",
              "      <td>1/9/2020</td>\n",
              "      <td>DKI2 (Kelapa Gading)</td>\n",
              "      <td>64</td>\n",
              "      <td>24</td>\n",
              "      <td>45</td>\n",
              "      <td>10</td>\n",
              "      <td>64</td>\n",
              "      <td>PM10</td>\n",
              "      <td>SEDANG</td>\n",
              "    </tr>\n",
              "    <tr>\n",
              "      <th>9</th>\n",
              "      <td>1/10/2020</td>\n",
              "      <td>DKI2 (Kelapa Gading)</td>\n",
              "      <td>43</td>\n",
              "      <td>19</td>\n",
              "      <td>32</td>\n",
              "      <td>9</td>\n",
              "      <td>43</td>\n",
              "      <td>PM10</td>\n",
              "      <td>BAIK</td>\n",
              "    </tr>\n",
              "    <tr>\n",
              "      <th>10</th>\n",
              "      <td>1/11/2020</td>\n",
              "      <td>DKI2 (Kelapa Gading)</td>\n",
              "      <td>44</td>\n",
              "      <td>20</td>\n",
              "      <td>35</td>\n",
              "      <td>9</td>\n",
              "      <td>44</td>\n",
              "      <td>PM10</td>\n",
              "      <td>BAIK</td>\n",
              "    </tr>\n",
              "    <tr>\n",
              "      <th>11</th>\n",
              "      <td>1/12/2020</td>\n",
              "      <td>DKI2 (Kelapa Gading)</td>\n",
              "      <td>34</td>\n",
              "      <td>11</td>\n",
              "      <td>34</td>\n",
              "      <td>5</td>\n",
              "      <td>34</td>\n",
              "      <td>PM10</td>\n",
              "      <td>BAIK</td>\n",
              "    </tr>\n",
              "    <tr>\n",
              "      <th>12</th>\n",
              "      <td>1/13/2020</td>\n",
              "      <td>DKI2 (Kelapa Gading)</td>\n",
              "      <td>37</td>\n",
              "      <td>9</td>\n",
              "      <td>35</td>\n",
              "      <td>7</td>\n",
              "      <td>37</td>\n",
              "      <td>PM10</td>\n",
              "      <td>BAIK</td>\n",
              "    </tr>\n",
              "    <tr>\n",
              "      <th>13</th>\n",
              "      <td>1/14/2020</td>\n",
              "      <td>DKI2 (Kelapa Gading)</td>\n",
              "      <td>32</td>\n",
              "      <td>7</td>\n",
              "      <td>35</td>\n",
              "      <td>9</td>\n",
              "      <td>35</td>\n",
              "      <td>O3</td>\n",
              "      <td>BAIK</td>\n",
              "    </tr>\n",
              "    <tr>\n",
              "      <th>14</th>\n",
              "      <td>1/15/2020</td>\n",
              "      <td>DKI2 (Kelapa Gading)</td>\n",
              "      <td>33</td>\n",
              "      <td>11</td>\n",
              "      <td>37</td>\n",
              "      <td>9</td>\n",
              "      <td>37</td>\n",
              "      <td>O3</td>\n",
              "      <td>BAIK</td>\n",
              "    </tr>\n",
              "    <tr>\n",
              "      <th>15</th>\n",
              "      <td>1/16/2020</td>\n",
              "      <td>DKI2 (Kelapa Gading)</td>\n",
              "      <td>51</td>\n",
              "      <td>16</td>\n",
              "      <td>39</td>\n",
              "      <td>10</td>\n",
              "      <td>51</td>\n",
              "      <td>PM10</td>\n",
              "      <td>SEDANG</td>\n",
              "    </tr>\n",
              "    <tr>\n",
              "      <th>16</th>\n",
              "      <td>1/17/2020</td>\n",
              "      <td>DKI2 (Kelapa Gading)</td>\n",
              "      <td>86</td>\n",
              "      <td>26</td>\n",
              "      <td>81</td>\n",
              "      <td>11</td>\n",
              "      <td>86</td>\n",
              "      <td>PM10</td>\n",
              "      <td>SEDANG</td>\n",
              "    </tr>\n",
              "    <tr>\n",
              "      <th>17</th>\n",
              "      <td>1/18/2020</td>\n",
              "      <td>DKI2 (Kelapa Gading)</td>\n",
              "      <td>41</td>\n",
              "      <td>10</td>\n",
              "      <td>44</td>\n",
              "      <td>7</td>\n",
              "      <td>44</td>\n",
              "      <td>O3</td>\n",
              "      <td>BAIK</td>\n",
              "    </tr>\n",
              "    <tr>\n",
              "      <th>18</th>\n",
              "      <td>1/19/2020</td>\n",
              "      <td>DKI2 (Kelapa Gading)</td>\n",
              "      <td>73</td>\n",
              "      <td>50</td>\n",
              "      <td>92</td>\n",
              "      <td>15</td>\n",
              "      <td>92</td>\n",
              "      <td>O3</td>\n",
              "      <td>SEDANG</td>\n",
              "    </tr>\n",
              "    <tr>\n",
              "      <th>19</th>\n",
              "      <td>1/20/2020</td>\n",
              "      <td>DKI2 (Kelapa Gading)</td>\n",
              "      <td>53</td>\n",
              "      <td>13</td>\n",
              "      <td>35</td>\n",
              "      <td>6</td>\n",
              "      <td>53</td>\n",
              "      <td>PM10</td>\n",
              "      <td>SEDANG</td>\n",
              "    </tr>\n",
              "    <tr>\n",
              "      <th>20</th>\n",
              "      <td>1/21/2020</td>\n",
              "      <td>DKI2 (Kelapa Gading)</td>\n",
              "      <td>34</td>\n",
              "      <td>11</td>\n",
              "      <td>30</td>\n",
              "      <td>8</td>\n",
              "      <td>34</td>\n",
              "      <td>PM10</td>\n",
              "      <td>BAIK</td>\n",
              "    </tr>\n",
              "    <tr>\n",
              "      <th>21</th>\n",
              "      <td>1/22/2020</td>\n",
              "      <td>DKI2 (Kelapa Gading)</td>\n",
              "      <td>62</td>\n",
              "      <td>15</td>\n",
              "      <td>44</td>\n",
              "      <td>7</td>\n",
              "      <td>62</td>\n",
              "      <td>PM10</td>\n",
              "      <td>SEDANG</td>\n",
              "    </tr>\n",
              "    <tr>\n",
              "      <th>22</th>\n",
              "      <td>1/23/2020</td>\n",
              "      <td>DKI2 (Kelapa Gading)</td>\n",
              "      <td>39</td>\n",
              "      <td>12</td>\n",
              "      <td>26</td>\n",
              "      <td>8</td>\n",
              "      <td>39</td>\n",
              "      <td>PM10</td>\n",
              "      <td>BAIK</td>\n",
              "    </tr>\n",
              "    <tr>\n",
              "      <th>23</th>\n",
              "      <td>1/24/2020</td>\n",
              "      <td>DKI2 (Kelapa Gading)</td>\n",
              "      <td>55</td>\n",
              "      <td>21</td>\n",
              "      <td>25</td>\n",
              "      <td>7</td>\n",
              "      <td>55</td>\n",
              "      <td>PM10</td>\n",
              "      <td>SEDANG</td>\n",
              "    </tr>\n",
              "    <tr>\n",
              "      <th>24</th>\n",
              "      <td>1/25/2020</td>\n",
              "      <td>DKI2 (Kelapa Gading)</td>\n",
              "      <td>30</td>\n",
              "      <td>24</td>\n",
              "      <td>28</td>\n",
              "      <td>8</td>\n",
              "      <td>30</td>\n",
              "      <td>PM10</td>\n",
              "      <td>BAIK</td>\n",
              "    </tr>\n",
              "  </tbody>\n",
              "</table>\n",
              "</div>\n",
              "      <button class=\"colab-df-convert\" onclick=\"convertToInteractive('df-5616731c-459a-4b1f-a32c-5bc30e6a52e4')\"\n",
              "              title=\"Convert this dataframe to an interactive table.\"\n",
              "              style=\"display:none;\">\n",
              "        \n",
              "  <svg xmlns=\"http://www.w3.org/2000/svg\" height=\"24px\"viewBox=\"0 0 24 24\"\n",
              "       width=\"24px\">\n",
              "    <path d=\"M0 0h24v24H0V0z\" fill=\"none\"/>\n",
              "    <path d=\"M18.56 5.44l.94 2.06.94-2.06 2.06-.94-2.06-.94-.94-2.06-.94 2.06-2.06.94zm-11 1L8.5 8.5l.94-2.06 2.06-.94-2.06-.94L8.5 2.5l-.94 2.06-2.06.94zm10 10l.94 2.06.94-2.06 2.06-.94-2.06-.94-.94-2.06-.94 2.06-2.06.94z\"/><path d=\"M17.41 7.96l-1.37-1.37c-.4-.4-.92-.59-1.43-.59-.52 0-1.04.2-1.43.59L10.3 9.45l-7.72 7.72c-.78.78-.78 2.05 0 2.83L4 21.41c.39.39.9.59 1.41.59.51 0 1.02-.2 1.41-.59l7.78-7.78 2.81-2.81c.8-.78.8-2.07 0-2.86zM5.41 20L4 18.59l7.72-7.72 1.47 1.35L5.41 20z\"/>\n",
              "  </svg>\n",
              "      </button>\n",
              "      \n",
              "  <style>\n",
              "    .colab-df-container {\n",
              "      display:flex;\n",
              "      flex-wrap:wrap;\n",
              "      gap: 12px;\n",
              "    }\n",
              "\n",
              "    .colab-df-convert {\n",
              "      background-color: #E8F0FE;\n",
              "      border: none;\n",
              "      border-radius: 50%;\n",
              "      cursor: pointer;\n",
              "      display: none;\n",
              "      fill: #1967D2;\n",
              "      height: 32px;\n",
              "      padding: 0 0 0 0;\n",
              "      width: 32px;\n",
              "    }\n",
              "\n",
              "    .colab-df-convert:hover {\n",
              "      background-color: #E2EBFA;\n",
              "      box-shadow: 0px 1px 2px rgba(60, 64, 67, 0.3), 0px 1px 3px 1px rgba(60, 64, 67, 0.15);\n",
              "      fill: #174EA6;\n",
              "    }\n",
              "\n",
              "    [theme=dark] .colab-df-convert {\n",
              "      background-color: #3B4455;\n",
              "      fill: #D2E3FC;\n",
              "    }\n",
              "\n",
              "    [theme=dark] .colab-df-convert:hover {\n",
              "      background-color: #434B5C;\n",
              "      box-shadow: 0px 1px 3px 1px rgba(0, 0, 0, 0.15);\n",
              "      filter: drop-shadow(0px 1px 2px rgba(0, 0, 0, 0.3));\n",
              "      fill: #FFFFFF;\n",
              "    }\n",
              "  </style>\n",
              "\n",
              "      <script>\n",
              "        const buttonEl =\n",
              "          document.querySelector('#df-5616731c-459a-4b1f-a32c-5bc30e6a52e4 button.colab-df-convert');\n",
              "        buttonEl.style.display =\n",
              "          google.colab.kernel.accessAllowed ? 'block' : 'none';\n",
              "\n",
              "        async function convertToInteractive(key) {\n",
              "          const element = document.querySelector('#df-5616731c-459a-4b1f-a32c-5bc30e6a52e4');\n",
              "          const dataTable =\n",
              "            await google.colab.kernel.invokeFunction('convertToInteractive',\n",
              "                                                     [key], {});\n",
              "          if (!dataTable) return;\n",
              "\n",
              "          const docLinkHtml = 'Like what you see? Visit the ' +\n",
              "            '<a target=\"_blank\" href=https://colab.research.google.com/notebooks/data_table.ipynb>data table notebook</a>'\n",
              "            + ' to learn more about interactive tables.';\n",
              "          element.innerHTML = '';\n",
              "          dataTable['output_type'] = 'display_data';\n",
              "          await google.colab.output.renderOutput(dataTable, element);\n",
              "          const docLink = document.createElement('div');\n",
              "          docLink.innerHTML = docLinkHtml;\n",
              "          element.appendChild(docLink);\n",
              "        }\n",
              "      </script>\n",
              "    </div>\n",
              "  </div>\n",
              "  "
            ]
          },
          "metadata": {},
          "execution_count": 4
        }
      ]
    },
    {
      "cell_type": "code",
      "source": [
        "df.isnull().sum()"
      ],
      "metadata": {
        "colab": {
          "base_uri": "https://localhost:8080/"
        },
        "id": "j50TSYtPIYuE",
        "outputId": "8c289f90-e2ce-46ac-e4f8-f0a64671d7a3"
      },
      "execution_count": 5,
      "outputs": [
        {
          "output_type": "execute_result",
          "data": {
            "text/plain": [
              "tanggal     0\n",
              "stasiun     0\n",
              "pm10        0\n",
              "co          0\n",
              "o3          0\n",
              "no2         0\n",
              "max         0\n",
              "critical    0\n",
              "categori    0\n",
              "dtype: int64"
            ]
          },
          "metadata": {},
          "execution_count": 5
        }
      ]
    },
    {
      "cell_type": "code",
      "source": [
        "df.plot(kind='scatter', x='pm10', y='max') #UNTUK MEMANGGI VARIABEL\n",
        "\n",
        "plt.title('Omzet toko bunga')\n",
        "plt.xlabel('volume')\n",
        "plt.ylabel('omzet')\n",
        "plt.xlim(0, 90)\n",
        "plt.ylim(0, 90)\n",
        "plt.grid(True)\n",
        "plt.show()"
      ],
      "metadata": {
        "colab": {
          "base_uri": "https://localhost:8080/",
          "height": 295
        },
        "id": "DeWsZVo8IcZZ",
        "outputId": "f6786d71-e529-452e-b3ce-d73ee93c9ed3"
      },
      "execution_count": 6,
      "outputs": [
        {
          "output_type": "display_data",
          "data": {
            "text/plain": [
              "<Figure size 432x288 with 1 Axes>"
            ],
            "image/png": "[encoded data removed]"
          },
          "metadata": {
            "needs_background": "light"
          }
        }
      ]
    },
    {
      "cell_type": "code",
      "source": [
        "import numpy as np\n",
        "\n",
        "x = np.array(df['pm10'])\n",
        "y = np.array(df['max'])\n",
        "\n",
        "print(f'x : {x}')\n",
        "print(f'y : {y}') "
      ],
      "metadata": {
        "colab": {
          "base_uri": "https://localhost:8080/"
        },
        "id": "slkRSRVEI3CN",
        "outputId": "3bf7166d-482c-444e-cd32-edf4200d6ba2"
      },
      "execution_count": 7,
      "outputs": [
        {
          "output_type": "stream",
          "name": "stdout",
          "text": [
            "x : [31 23 47 45 41 54 46 51 64 43 44 34 37 32 33 51 86 41 73 53 34 62 39 55\n",
            " 30]\n",
            "y : [41 35 47 45 44 54 46 51 64 43 44 34 37 35 37 51 86 44 92 53 34 62 39 55\n",
            " 30]\n"
          ]
        }
      ]
    },
    {
      "cell_type": "code",
      "source": [
        "x"
      ],
      "metadata": {
        "colab": {
          "base_uri": "https://localhost:8080/"
        },
        "id": "7Kw6q8AfJCtX",
        "outputId": "426ae432-a0f5-445d-b629-6110f5d130c7"
      },
      "execution_count": 8,
      "outputs": [
        {
          "output_type": "execute_result",
          "data": {
            "text/plain": [
              "array([31, 23, 47, 45, 41, 54, 46, 51, 64, 43, 44, 34, 37, 32, 33, 51, 86,\n",
              "       41, 73, 53, 34, 62, 39, 55, 30])"
            ]
          },
          "metadata": {},
          "execution_count": 8
        }
      ]
    },
    {
      "cell_type": "code",
      "source": [
        "x = x.reshape(-1, 1) \n",
        "x.shape"
      ],
      "metadata": {
        "colab": {
          "base_uri": "https://localhost:8080/"
        },
        "id": "alwtiK3YJDVH",
        "outputId": "66c35120-71bd-4501-bf54-04f769ed3a63"
      },
      "execution_count": 10,
      "outputs": [
        {
          "output_type": "execute_result",
          "data": {
            "text/plain": [
              "(25, 1)"
            ]
          },
          "metadata": {},
          "execution_count": 10
        }
      ]
    },
    {
      "cell_type": "code",
      "source": [
        "from sklearn.linear_model import LinearRegression #MEMANGGIL MODEL REGRESSI LINEAR\n",
        "\n",
        "model = LinearRegression() # VARIABLE MODEL BIOSA DI GANTI\n",
        "model.fit(x, y)"
      ],
      "metadata": {
        "colab": {
          "base_uri": "https://localhost:8080/"
        },
        "id": "vSCdjw2JJG94",
        "outputId": "19fe9f72-2f4b-4a03-d870-f49dede89525"
      },
      "execution_count": 12,
      "outputs": [
        {
          "output_type": "execute_result",
          "data": {
            "text/plain": [
              "LinearRegression()"
            ]
          },
          "metadata": {},
          "execution_count": 12
        }
      ]
    },
    {
      "cell_type": "code",
      "source": [
        "x_vis = np.array([0, 95]).reshape(-1, 1) # pembuatan garis merah dari x\n",
        "y_vis = model.predict(x_vis) # model machine learning"
      ],
      "metadata": {
        "id": "UMtd-JDiJKUw"
      },
      "execution_count": 13,
      "outputs": []
    },
    {
      "cell_type": "code",
      "source": [
        "plt.scatter(x, y)\n",
        "plt.plot(x_vis, y_vis, '-r')\n",
        "plt.title('indeks kesejahteraan warga')\n",
        "plt.xlabel('Jumlah penduduk')\n",
        "plt.ylabel('Indexs')\n",
        "plt.xlim(0, 90)\n",
        "plt.ylim(0, 90)\n",
        "plt.grid(True)\n",
        "plt.show()"
      ],
      "metadata": {
        "colab": {
          "base_uri": "https://localhost:8080/",
          "height": 295
        },
        "id": "csycsu-pJRHh",
        "outputId": "6855afcb-f051-4673-a1fa-c26d194ac431"
      },
      "execution_count": 15,
      "outputs": [
        {
          "output_type": "display_data",
          "data": {
            "text/plain": [
              "<Figure size 432x288 with 1 Axes>"
            ],
            "image/png": "[encoded data removed]"
          },
          "metadata": {
            "needs_background": "light"
          }
        }
      ]
    },
    {
      "cell_type": "code",
      "source": [
        "print(f'intercept : {model.intercept_}') \n",
        "print(f'slope : {model.coef_}')"
      ],
      "metadata": {
        "colab": {
          "base_uri": "https://localhost:8080/"
        },
        "id": "06zgUtWgKWm-",
        "outputId": "b3ef31ab-40f0-4d41-8dd7-446aa23ca866"
      },
      "execution_count": null,
      "outputs": [
        {
          "output_type": "stream",
          "name": "stdout",
          "text": [
            "intercept : 2.479548828966898\n",
            "slope : [0.99304724]\n"
          ]
        }
      ]
    },
    {
      "cell_type": "code",
      "source": [
        "Jml_pm10 = np.array([85, 90, 95, 100]).reshape(-1, 1)\n",
        "Jml_pm10"
      ],
      "metadata": {
        "colab": {
          "base_uri": "https://localhost:8080/"
        },
        "id": "j2Bx9T7GKbvD",
        "outputId": "9de9540f-6f7a-4dac-bd59-b61421ae7e8f"
      },
      "execution_count": null,
      "outputs": [
        {
          "output_type": "execute_result",
          "data": {
            "text/plain": [
              "array([[ 85],\n",
              "       [ 90],\n",
              "       [ 95],\n",
              "       [100]])"
            ]
          },
          "metadata": {},
          "execution_count": 15
        }
      ]
    },
    {
      "cell_type": "code",
      "source": [
        "prediksi_max = model.predict(Jml_pm10)\n",
        "prediksi_max"
      ],
      "metadata": {
        "colab": {
          "base_uri": "https://localhost:8080/"
        },
        "id": "iZf018SnKc9b",
        "outputId": "58ddf143-9305-4895-8c17-4a4041111be6"
      },
      "execution_count": null,
      "outputs": [
        {
          "output_type": "execute_result",
          "data": {
            "text/plain": [
              "array([ 86.88856427,  91.85380047,  96.81903667, 101.78427287])"
            ]
          },
          "metadata": {},
          "execution_count": 16
        }
      ]
    },
    {
      "cell_type": "code",
      "source": [
        "for pm10, max in zip(Jml_pm10, prediksi_max):\n",
        "  print(f'prediksi_pm10 : {pm10} perediksi_max : {max}')"
      ],
      "metadata": {
        "colab": {
          "base_uri": "https://localhost:8080/"
        },
        "id": "pkxE56vMLSNy",
        "outputId": "b64ef669-7a3a-4a39-ba9c-f02f0a5530cb"
      },
      "execution_count": null,
      "outputs": [
        {
          "output_type": "stream",
          "name": "stdout",
          "text": [
            "prediksi_pm10 : [85] perediksi_max : 86.88856426712645\n",
            "prediksi_pm10 : [90] perediksi_max : 91.85380046937114\n",
            "prediksi_pm10 : [95] perediksi_max : 96.81903667161582\n",
            "prediksi_pm10 : [100] perediksi_max : 101.7842728738605\n"
          ]
        }
      ]
    },
    {
      "cell_type": "code",
      "source": [
        "#Grafik bar\n",
        "fig = plt.figure()\n",
        "ax = fig.add_axes([0,0,1,1])\n",
        "perusahaan = (df['pm10'])\n",
        "no = (df['max'])\n",
        "c = ['blue', 'green', 'red', 'yellow']\n",
        "plt.title(\"prediksi max\")\n",
        "plt.bar(perusahaan, no, color = c)\n",
        "plt.show()\n",
        "print(\"\")\n"
      ],
      "metadata": {
        "colab": {
          "base_uri": "https://localhost:8080/",
          "height": 370
        },
        "id": "mBuG1r2ZLzo3",
        "outputId": "d0db42c6-97f1-435b-fe73-deaa120d6eca"
      },
      "execution_count": null,
      "outputs": [
        {
          "output_type": "display_data",
          "data": {
            "text/plain": [
              "<Figure size 432x288 with 1 Axes>"
            ],
            "image/png": "[encoded data removed]"
          },
          "metadata": {
            "needs_background": "light"
          }
        },
        {
          "output_type": "stream",
          "name": "stdout",
          "text": [
            "\n"
          ]
        }
      ]
    },
    {
      "cell_type": "code",
      "source": [
        "#pie chart\n",
        "fig = plt.figure()\n",
        "ax = fig.add_axes([0,0,1,1])\n",
        "ax.axis ('equal')\n",
        "plt.title(\"prediksi max\")\n",
        "perusahaan = [85, 90, 95, 100]\n",
        "no = [86, 91, 96, 101]\n",
        "ax.pie(no,labels=perusahaan,autopct='%1.2f%%')\n",
        "plt.show()\n",
        "print('')"
      ],
      "metadata": {
        "colab": {
          "base_uri": "https://localhost:8080/",
          "height": 353
        },
        "id": "3lXdB1xhL4LX",
        "outputId": "93dc8ed1-038f-4e4a-ac6f-7da4b93e9d8a"
      },
      "execution_count": null,
      "outputs": [
        {
          "output_type": "display_data",
          "data": {
            "text/plain": [
              "<Figure size 432x288 with 1 Axes>"
            ],
            "image/png": "[encoded data removed]"
          },
          "metadata": {}
        },
        {
          "output_type": "stream",
          "name": "stdout",
          "text": [
            "\n"
          ]
        }
      ]
    }
  ]
}